{
 "cells": [
  {
   "cell_type": "markdown",
   "id": "95223b77-64e0-4bc7-aada-530b6c357716",
   "metadata": {},
   "source": [
    "# Cut the image and semantic image into your model input image"
   ]
  },
  {
   "cell_type": "code",
   "execution_count": 1,
   "id": "16e2527a-50e6-4859-aa71-20723492c88c",
   "metadata": {},
   "outputs": [],
   "source": [
    "import numpy as np\n",
    "from skimage import io\n",
    "import napari\n",
    "import sys\n",
    "import os\n",
    "\n",
    "utils_path = os.path.abspath(os.path.join('..', 'utils'))\n",
    "\n",
    "if utils_path not in sys.path:\n",
    "    sys.path.append(utils_path)\n",
    "import file_utilities as fu"
   ]
  },
  {
   "cell_type": "code",
   "execution_count": 2,
   "id": "174e803c-8f1c-4093-9095-2de003f83aaa",
   "metadata": {},
   "outputs": [
    {
     "name": "stdout",
     "output_type": "stream",
     "text": [
      "Selected File: C:/Users/Ding-Yang/Desktop/Thesis code/Axons-extraction/example data/less_intensive/top_hat/top_hat.tiff\n",
      "Selected File: C:/Users/Ding-Yang/Desktop/Thesis code/Axons-extraction/example data/less_intensive/semantic image/label_wih_border_mask.tif\n"
     ]
    }
   ],
   "source": [
    "# Get the file path\n",
    "file_path = fu.choose_file()\n",
    "image = io.imread(file_path)\n",
    "\n",
    "# Get the file path\n",
    "file_path = fu.choose_file()\n",
    "mask = io.imread(file_path)\n"
   ]
  },
  {
   "cell_type": "markdown",
   "id": "20782680-b5a1-4d19-a985-824c0cfb0e94",
   "metadata": {},
   "source": [
    "## read augmentation files"
   ]
  },
  {
   "cell_type": "code",
   "execution_count": 14,
   "id": "05cea11f-fa00-4642-bde5-b12a1c908569",
   "metadata": {},
   "outputs": [
    {
     "name": "stdout",
     "output_type": "stream",
     "text": [
      "C:/Users/Ding-Yang/Desktop/Thesis code/Axons-extraction/example data/Augmentation/less intensive\\image\n",
      "Read 1 images and 1 masks\n"
     ]
    }
   ],
   "source": [
    "import os\n",
    "import glob\n",
    "import tifffile\n",
    "from tkinter import filedialog, Tk, messagebox\n",
    "\n",
    "def read_augmentation_images():\n",
    "    # 彈窗提醒用戶選擇目錄\n",
    "    root = Tk()\n",
    "    root.attributes(\"-topmost\", True)\n",
    "    root.withdraw()\n",
    "    \n",
    "    # 彈窗提醒\n",
    "    messagebox.showinfo(\"Choose Directory\", \"Please choose a folder containing the augmentation datasets.\")\n",
    "    \n",
    "    # 打開目錄選擇對話框\n",
    "    augmentation_directory = filedialog.askdirectory(\n",
    "        title=\"Select the Augmentation folder\"\n",
    "    )\n",
    "    root.destroy()\n",
    "\n",
    "    # 如果用戶未選擇目錄\n",
    "    if not augmentation_directory:\n",
    "        raise Exception(\"No directory selected. Operation aborted.\")\n",
    "\n",
    "    # 確保選擇的目錄中存在與原始圖像目錄匹配的子文件夾\n",
    "    image_directory = os.path.join(augmentation_directory, \"image\")\n",
    "    mask_directory = os.path.join(augmentation_directory, \"mask\")\n",
    "    print(image_directory)\n",
    "\n",
    "    # 確認圖像和標籤目錄是否存在\n",
    "    if os.path.exists(image_directory) and os.path.exists(mask_directory):\n",
    "        # 讀取圖像文件\n",
    "        image_files = glob.glob(os.path.join(image_directory, \"*.tif\"))\n",
    "        images = {os.path.splitext(os.path.basename(image_file))[0]: tifffile.imread(image_file) for image_file in image_files}\n",
    "\n",
    "        # 讀取標籤文件\n",
    "        mask_files = glob.glob(os.path.join(mask_directory, \"*.tif\"))\n",
    "        masks = {os.path.splitext(os.path.basename(mask_file))[0]: tifffile.imread(mask_file) for mask_file in mask_files}\n",
    "\n",
    "        # 檢查是否成功讀取\n",
    "        if images and masks:\n",
    "            print(f\"Read {len(images)} images and {len(masks)} masks\")\n",
    "        else:\n",
    "            print(\"Failed to read images and masks\")\n",
    "        return {\"image\": images, \"mask\": masks}\n",
    "    else:\n",
    "        raise Exception(f\"Image directory or mask directory does not exist in {augmentation_directory}\")\n",
    "\n",
    "# 使用方式\n",
    "result_dict = read_augmentation_images()\n"
   ]
  },
  {
   "cell_type": "code",
   "execution_count": 15,
   "id": "4522fd26-48dc-45bd-b863-0ef8f0938c93",
   "metadata": {},
   "outputs": [
    {
     "name": "stdout",
     "output_type": "stream",
     "text": [
      "All images have the same shape: (17, 1024, 1024)\n",
      "All masks have the same shape: (17, 1024, 1024)\n",
      "All images and masks have same shapes (17, 1024, 1024)\n"
     ]
    }
   ],
   "source": [
    "def check_shapes(image_dict):\n",
    "    # Initialize lists to store shapes and their corresponding keys\n",
    "    image_shapes = []\n",
    "    mask_shapes = []\n",
    "    image_keys = []\n",
    "    mask_keys = []\n",
    "\n",
    "    # Iterate over the items in the dictionary\n",
    "    for key, sub_dict in image_dict.items():\n",
    "        for sub_key, value in sub_dict.items():\n",
    "            if 'image' in sub_key.lower():\n",
    "                image_shapes.append(value.shape)\n",
    "                image_keys.append(sub_key)\n",
    "            elif 'mask' in sub_key.lower():\n",
    "                mask_shapes.append(value.shape)\n",
    "                mask_keys.append(sub_key)\n",
    "\n",
    "    # Check if all image shapes are the same\n",
    "    same_image_shapes = all(shape == image_shapes[0] for shape in image_shapes)\n",
    "\n",
    "    # Check if all mask shapes are the same\n",
    "    same_mask_shapes = all(shape == mask_shapes[0] for shape in mask_shapes)\n",
    "\n",
    "    if same_image_shapes:\n",
    "        print(\"All images have the same shape:\", image_shapes[0])\n",
    "    else:\n",
    "        print(\"Images have different shapes. All images must have the same shape\")\n",
    "        for i, shape in enumerate(image_shapes):\n",
    "            if shape != image_shapes[0]:\n",
    "                raise ValueError(f\"Image {image_keys[i]} has shape:\", shape)\n",
    "\n",
    "    if same_mask_shapes:\n",
    "        print(\"All masks have the same shape:\", mask_shapes[0])\n",
    "    else:\n",
    "        print(\"Masks have different shapes. All masks must have the same shape\")\n",
    "        for i, shape in enumerate(mask_shapes):\n",
    "            if shape != mask_shapes[0]:\n",
    "                raise ValueError(f\"Mask {mask_keys[i]} has shape:\", shape)\n",
    "\n",
    "    if image_shapes[0] == mask_shapes[0]:\n",
    "        print(\"All images and masks have same shapes\", mask_shapes[0])\n",
    "        return image_shapes[0]\n",
    "    else:\n",
    "        raise ValueError(\"Images and masks have different shapes\")\n",
    "\n",
    "# Usage\n",
    "image_shape = check_shapes(result_dict)\n"
   ]
  },
  {
   "cell_type": "code",
   "execution_count": 16,
   "id": "cd5f2912-0cfb-4d3f-96bf-2870dd7285fe",
   "metadata": {},
   "outputs": [
    {
     "name": "stdout",
     "output_type": "stream",
     "text": [
      "image: 0\n",
      "Image key: RandomGamma_RandomFlip_transpose 0 Image\n",
      "Mask key: RandomGamma_RandomFlip_transpose 0 Mask\n",
      "\n"
     ]
    }
   ],
   "source": [
    "image_keys = list(result_dict['image'].keys())\n",
    "mask_keys = list(result_dict['mask'].keys())\n",
    "\n",
    "# 找到匹配的键对\n",
    "matched_pairs = [(image_key, mask_key) for image_key in image_keys for mask_key in mask_keys if image_key.split(' ')[0] == mask_key.split(' ')[0]]\n",
    "\n",
    "# 打印匹配的键对\n",
    "for i, (image_key, mask_key) in enumerate(matched_pairs):\n",
    "    print(\"image:\", i)\n",
    "    print(\"Image key:\", image_key)\n",
    "    print(\"Mask key:\", mask_key)\n",
    "\n",
    "    print()\n"
   ]
  },
  {
   "cell_type": "markdown",
   "id": "85e07c72-ef1a-4466-9db8-dc730238ff41",
   "metadata": {},
   "source": [
    "## cute into patches and make them into training inout shape"
   ]
  },
  {
   "cell_type": "code",
   "execution_count": 17,
   "id": "f702dc89-b99b-4af0-9c6c-8f3a160c053b",
   "metadata": {},
   "outputs": [
    {
     "name": "stdout",
     "output_type": "stream",
     "text": [
      "All images have the same shape: (17, 1024, 1024)\n",
      "All masks have the same shape: (17, 1024, 1024)\n",
      "All images and masks have same shapes (17, 1024, 1024)\n",
      "Adjusting your result_dict image shape from (17, 1024, 1024) into (32, 1024, 1024)...\n",
      "Finish!\n"
     ]
    }
   ],
   "source": [
    "import numpy as np\n",
    "import math\n",
    "\n",
    "def adjust_image_size(result_dict, z_target = None):\n",
    "    # Get the shape of the images\n",
    "    image_shapes = check_shapes(result_dict)\n",
    "    if len(result_dict['image']) != len(result_dict['mask']):\n",
    "        raise ValueError(\"Your image and mask couldn't match\")\n",
    "\n",
    "    # Get the shape of the images\n",
    "    oz, ox, oy = image_shapes\n",
    "    if z_target == None:\n",
    "        z_target = round(oz / 32) * 32\n",
    "        print(f\"Adjusting your result_dict image shape from {image_shapes} into {(z_target, ox, oy)}...\")\n",
    "    else:        \n",
    "        # Check if z_target is divisible by 32\n",
    "        if z_target % 32 != 0:\n",
    "            raise ValueError(\"z_target must be divisible by 32\")\n",
    "\n",
    "    # make adjusted_result dic\n",
    "    adjusted_result = {'image': {}, 'mask': {}}\n",
    "    num_images = len(result_dict['image'])\n",
    "    num_adjusted_images = len(result_dict['image'])\n",
    "    for i in range(num_adjusted_images):\n",
    "        adjusted_image_key = f\"image {i+1}\"\n",
    "        adjusted_mask_key = f\"mask {i+1}\"\n",
    "        adjusted_result['image'][adjusted_image_key] = np.zeros((z_target, ox, oy), dtype=result_dict['image'][list(result_dict['image'].keys())[i]].dtype)\n",
    "        adjusted_result['mask'][adjusted_mask_key] = np.zeros((z_target, ox, oy), dtype=result_dict['mask'][list(result_dict['mask'].keys())[i]].dtype)\n",
    "\n",
    "    # Check if z_target is higher or lower than the current z\n",
    "    if oz > z_target:\n",
    "        # Higher, crop the images\n",
    "        image_keys = list(result_dict['image'].keys())\n",
    "        mask_keys = list(result_dict['mask'].keys())\n",
    "        \n",
    "        # 找到匹配的键对\n",
    "        matched_pairs = [(image_key, mask_key) for image_key in image_keys for mask_key in mask_keys if image_key.split(' ')[0] == mask_key.split(' ')[0]]\n",
    "        \n",
    "        # 打印匹配的键对count, value in enumerate(values\n",
    "        for i, (image_key, mask_key) in enumerate(matched_pairs):\n",
    "            key_adjust_image = list(adjusted_result['image'].keys())[i]\n",
    "            adjusted_result[\"image\"][key_adjust_image] = np.copy(result_dict['image'][image_key][0:z_target])\n",
    "\n",
    "            key_adjust_mask = list(adjusted_result['mask'].keys())[i]\n",
    "            adjusted_result[\"mask\"][key_adjust_mask] = np.copy(result_dict['mask'][mask_key][0:z_target])\n",
    "\n",
    "\n",
    "    elif oz < z_target:\n",
    "        # Lower, pad the images\n",
    "        # Higher, crop the images\n",
    "        image_keys = list(result_dict['image'].keys())\n",
    "        mask_keys = list(result_dict['mask'].keys())\n",
    "        \n",
    "        # 找到匹配的键对\n",
    "        matched_pairs = [(image_key, mask_key) for image_key in image_keys for mask_key in mask_keys if image_key.split(' ')[0] == mask_key.split(' ')[0]]\n",
    "        \n",
    "        # 打印匹配的键对count, value in enumerate(values\n",
    "        for i, (image_key, mask_key) in enumerate(matched_pairs):\n",
    "            key_adjust_image = list(adjusted_result['image'].keys())[i]\n",
    "            adjusted_result[\"image\"][key_adjust_image][0:oz] = np.copy(result_dict['image'][image_key])\n",
    "            adjusted_result[\"image\"][key_adjust_image][oz:z_target] = np.copy(result_dict['image'][image_key][0:z_target - oz])\n",
    "\n",
    "\n",
    "            key_adjust_mask = list(adjusted_result['mask'].keys())[i]\n",
    "            adjusted_result[\"mask\"][key_adjust_mask][0:oz] = np.copy(result_dict['mask'][mask_key])\n",
    "            adjusted_result[\"mask\"][key_adjust_mask][oz:z_target] = np.copy(result_dict['mask'][mask_key][0:z_target - oz])\n",
    "    else:\n",
    "        print(\"Your z_target has the same size as the original of the image. The images do not change.\")\n",
    "        adjusted_result = result_dict\n",
    "    print(\"Finish!\")\n",
    "    return adjusted_result\n",
    "\n",
    "# Usage\n",
    "adjusted_result = adjust_image_size(result_dict)\n"
   ]
  },
  {
   "cell_type": "code",
   "execution_count": 18,
   "id": "db4fbb88-2a93-421a-a116-cc5776451784",
   "metadata": {},
   "outputs": [],
   "source": [
    "z, _, _ = adjusted_result['image']['image 1'].shape\n",
    "reszie_image = np.zeros((z, 1024, 1024))\n",
    "reszie_mask = np.zeros((z, 1024, 1024))\n",
    "\n",
    "if image.shape[0] <= z:\n",
    "    reszie_image[0:image.shape[0]] = image\n",
    "    reszie_image[image.shape[0]:z] = image[0:z-image.shape[0]]\n",
    "    reszie_mask[0:image.shape[0]] = mask\n",
    "    reszie_mask[image.shape[0]:z] = mask[0:z-mask.shape[0]]\n",
    "else:\n",
    "    reszie_image = image[0:z]\n",
    "    reszie_mask = mask[0:z]\n",
    "\n",
    "image = reszie_image\n",
    "\n",
    "mask = reszie_mask"
   ]
  },
  {
   "cell_type": "code",
   "execution_count": 19,
   "id": "52dd010c-65da-48d5-8902-17a644041765",
   "metadata": {},
   "outputs": [
    {
     "name": "stdout",
     "output_type": "stream",
     "text": [
      "(1, 16, 16, 32, 64, 64) (1, 16, 16, 32, 64, 64)\n",
      "(256, 32, 64, 64)\n"
     ]
    }
   ],
   "source": [
    "from patchify import patchify, unpatchify\n",
    "img_patches = patchify(image, (32, 64, 64), step=64)  #Step=64 for 64 patches means no overlap\n",
    "mask_patches = patchify(mask, (32, 64, 64), step=64)  \n",
    "print(img_patches.shape,mask_patches.shape)\n",
    "\n",
    "image_dataset = np.reshape(img_patches, (-1, img_patches.shape[3], img_patches.shape[4], img_patches.shape[5]))\n",
    "mask_dataset = np.reshape(mask_patches, (-1, mask_patches.shape[3], mask_patches.shape[4], mask_patches.shape[5]))\n",
    "\n",
    "print(image_dataset.shape)  # n_patches, x, y, z"
   ]
  },
  {
   "cell_type": "code",
   "execution_count": 20,
   "id": "c266c50d-81ce-42b8-bcb2-5dd5618980a2",
   "metadata": {},
   "outputs": [
    {
     "name": "stdout",
     "output_type": "stream",
     "text": [
      "patching image 1\n"
     ]
    }
   ],
   "source": [
    "image_keys = list(adjusted_result['image'].keys())\n",
    "mask_keys = list(adjusted_result['mask'].keys())\n",
    "matched_pairs = [(image_keys[i], mask_keys[i]) for i in range(min(len(image_keys), len(mask_keys)))]\n",
    "for i, (image_key, mask_key) in enumerate(matched_pairs):\n",
    "    print(f\"patching image {i+1}\")\n",
    "    img_patches = patchify(adjusted_result['image'][image_key], (32, 64, 64), step=64)  #Step=64 for 64 patches means no overlap\n",
    "    mask_patches = patchify(adjusted_result['mask'][mask_key], (32, 64, 64), step=64)  \n",
    "    input_img = np.reshape(img_patches, (-1, img_patches.shape[3], img_patches.shape[4], img_patches.shape[5]))\n",
    "    input_mask = np.reshape(mask_patches, (-1, mask_patches.shape[3], mask_patches.shape[4], mask_patches.shape[5]))\n",
    "    image_dataset = np.concatenate([image_dataset, input_img], axis=0)\n",
    "    mask_dataset = np.concatenate([mask_dataset, input_mask], axis=0)\n"
   ]
  },
  {
   "cell_type": "markdown",
   "id": "8dce5288-4fb8-448a-9a69-91109c6e31fc",
   "metadata": {
    "jp-MarkdownHeadingCollapsed": true
   },
   "source": [
    "# If you make multiple training images want to use"
   ]
  },
  {
   "cell_type": "code",
   "execution_count": 21,
   "id": "0a43714d-64c3-4a24-bb36-6307aef186d3",
   "metadata": {
    "collapsed": true,
    "jupyter": {
     "outputs_hidden": true
    },
    "scrolled": true
   },
   "outputs": [
    {
     "ename": "NameError",
     "evalue": "name 'image_dataset_1' is not defined",
     "output_type": "error",
     "traceback": [
      "\u001b[1;31m---------------------------------------------------------------------------\u001b[0m",
      "\u001b[1;31mNameError\u001b[0m                                 Traceback (most recent call last)",
      "Cell \u001b[1;32mIn[21], line 2\u001b[0m\n\u001b[0;32m      1\u001b[0m \u001b[38;5;66;03m# 将两个数组沿着第一个轴合并\u001b[39;00m\n\u001b[1;32m----> 2\u001b[0m merged_image \u001b[38;5;241m=\u001b[39m np\u001b[38;5;241m.\u001b[39mconcatenate((\u001b[43mimage_dataset_1\u001b[49m, image_dataset), axis\u001b[38;5;241m=\u001b[39m\u001b[38;5;241m0\u001b[39m)\n\u001b[0;32m      3\u001b[0m merged_mask \u001b[38;5;241m=\u001b[39m np\u001b[38;5;241m.\u001b[39mconcatenate((mask_dataset_1, mask_dataset), axis\u001b[38;5;241m=\u001b[39m\u001b[38;5;241m0\u001b[39m)\n\u001b[0;32m      5\u001b[0m \u001b[38;5;66;03m# 打印合并后的数组形状\u001b[39;00m\n",
      "\u001b[1;31mNameError\u001b[0m: name 'image_dataset_1' is not defined"
     ]
    }
   ],
   "source": [
    "\n",
    "# 将两个数组沿着第一个轴合并\n",
    "merged_image = np.concatenate((image_dataset_1, image_dataset), axis=0)\n",
    "merged_mask = np.concatenate((mask_dataset_1, mask_dataset), axis=0)\n",
    "\n",
    "# 打印合并后的数组形状\n",
    "print(merged_image.shape)\n"
   ]
  },
  {
   "cell_type": "code",
   "execution_count": null,
   "id": "ab07a5bf-50fa-4452-8672-3009b7b69318",
   "metadata": {},
   "outputs": [],
   "source": [
    "image_dataset = np.copy(merged_image)\n",
    "mask_dataset =np.copy(merged_mask)\n",
    "image_dataset.shape"
   ]
  },
  {
   "cell_type": "markdown",
   "id": "f8c9b7d3-939c-4335-bd59-6a4f93384ea8",
   "metadata": {},
   "source": [
    "# check the GT image and preprocessing is match"
   ]
  },
  {
   "cell_type": "code",
   "execution_count": 25,
   "id": "4830ed33-424f-4c36-8a00-b04a8172a992",
   "metadata": {},
   "outputs": [
    {
     "name": "stdout",
     "output_type": "stream",
     "text": [
      "(512, 32, 64, 64) (512, 32, 64, 64)\n",
      "422\n"
     ]
    },
    {
     "data": {
      "image/png": "[encoded data removed]",
      "text/plain": [
       "<Figure size 1200x600 with 2 Axes>"
      ]
     },
     "metadata": {},
     "output_type": "display_data"
    }
   ],
   "source": [
    "#Sanity check, view few mages\n",
    "import random\n",
    "import numpy as np\n",
    "from matplotlib import pyplot as plt\n",
    "\n",
    "print(image_dataset.shape, mask_dataset.shape)\n",
    "image_number = random.randint(0, len(image_dataset))\n",
    "print(image_number)\n",
    "plt.figure(figsize=(12, 6))\n",
    "plt.subplot(121)\n",
    "plt.imshow(image_dataset[image_number,:,:,28])\n",
    "plt.subplot(122)\n",
    "plt.imshow(mask_dataset[image_number,:,:,28])\n",
    "plt.show()"
   ]
  },
  {
   "cell_type": "code",
   "execution_count": 26,
   "id": "8a8d6de4-c7ca-41b6-ae03-8e2e12df1a02",
   "metadata": {},
   "outputs": [],
   "source": [
    "train_img = np.stack((image_dataset,)*3, axis=-1)\n",
    "train_mask = np.expand_dims(mask_dataset, axis=-1)\n"
   ]
  },
  {
   "cell_type": "markdown",
   "id": "ea63d070-5e66-4753-a7fa-46198e6e53e2",
   "metadata": {},
   "source": [
    "# Save training data for next step"
   ]
  },
  {
   "cell_type": "code",
   "execution_count": null,
   "id": "37434122-9de9-4cd5-8806-26aa4ba67d69",
   "metadata": {},
   "outputs": [],
   "source": [
    "import numpy as np\n",
    "\n",
    "# 創建一個NumPy陣列\n",
    "\n",
    "# 儲存陣列\n",
    "np.save('./train_img.npy', train_img)\n",
    "np.save('./train_mask.npy', train_mask)"
   ]
  },
  {
   "cell_type": "code",
   "execution_count": null,
   "id": "7135133f-a3cb-41e4-be11-94321cdd7e45",
   "metadata": {},
   "outputs": [],
   "source": [
    "n_classes=3# background, border, axons\n",
    "from keras.utils import to_categorical\n",
    "\n",
    "train_mask_cat = to_categorical(train_mask, num_classes=n_classes)\n",
    "\n",
    "\n",
    "from sklearn.model_selection import train_test_split\n",
    "\n",
    "X_train, X_test, y_train, y_test = train_test_split(train_img, train_mask_cat, test_size = 0.1, random_state = 10) #they will splite the data fixed.\n",
    "np.save('./X_train.npy', X_train)\n",
    "np.save('./X_test.npy', X_test)\n",
    "np.save('./y_train.npy', y_train)\n",
    "np.save('./y_test.npy', y_test)\n"
   ]
  }
 ],
 "metadata": {
  "kernelspec": {
   "display_name": "gpu_390",
   "language": "python",
   "name": "gpu_390"
  },
  "language_info": {
   "codemirror_mode": {
    "name": "ipython",
    "version": 3
   },
   "file_extension": ".py",
   "mimetype": "text/x-python",
   "name": "python",
   "nbconvert_exporter": "python",
   "pygments_lexer": "ipython3",
   "version": "3.9.19"
  }
 },
 "nbformat": 4,
 "nbformat_minor": 5
}
