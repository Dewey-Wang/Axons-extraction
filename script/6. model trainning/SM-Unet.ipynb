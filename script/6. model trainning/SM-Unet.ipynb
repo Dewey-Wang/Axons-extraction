{
 "cells": [
  {
   "cell_type": "code",
   "execution_count": 2,
   "id": "376840a4-6092-4db5-ba95-2b04805a4625",
   "metadata": {
    "scrolled": true
   },
   "outputs": [
    {
     "name": "stdout",
     "output_type": "stream",
     "text": [
      "True\n",
      "2.10.0\n",
      "2.10.0\n",
      "GPU device not found. TensorFlow is using CPU.\n",
      "False\n"
     ]
    }
   ],
   "source": [
    "import tensorflow as tf\n",
    "import keras\n",
    "print(tf.test.is_built_with_cuda())\n",
    "print(tf.__version__)\n",
    "print(keras.__version__)\n",
    "\n",
    "# Make sure the GPU is available.\n",
    "import tensorflow as tf\n",
    "\n",
    "device_name = tf.test.gpu_device_name()\n",
    "\n",
    "if device_name == '':\n",
    "    print('GPU device not found. TensorFlow is using CPU.')\n",
    "else:\n",
    "    print('Found GPU at: {}'.format(device_name))\n",
    "\n",
    "\n",
    "print(tf.test.is_gpu_available())\n",
    "tf.config.list_physical_devices('GPU')\n",
    "\n",
    "import segmentation_models_3D as sm\n",
    "from skimage import io\n",
    "from patchify import patchify, unpatchify\n",
    "import numpy as np\n",
    "from matplotlib import pyplot as plt\n",
    "from keras import backend as K\n",
    "from tensorflow.keras.utils import to_categorical\n",
    "from sklearn.model_selection import train_test_split\n",
    "\n",
    "import sys\n",
    "import os\n",
    "\n",
    "utils_path = os.path.abspath(os.path.join('..', 'utils'))\n",
    "\n",
    "if utils_path not in sys.path:\n",
    "    sys.path.append(utils_path)\n",
    "import file_utilities as fu"
   ]
  },
  {
   "cell_type": "code",
   "execution_count": 3,
   "id": "660761bc-7fae-41e8-8331-dc3866f2950d",
   "metadata": {
    "scrolled": true,
    "tags": []
   },
   "outputs": [
    {
     "name": "stdout",
     "output_type": "stream",
     "text": [
      "os module is part of Python standard library. Python version: 3.9.19 (main, Mar 21 2024, 17:21:27) [MSC v.1916 64 bit (AMD64)]\n",
      "absl-py==2.1.0\n",
      "aggdraw==1.3.18.post0\n",
      "alabaster==0.7.16\n",
      "annotated-types==0.6.0\n",
      "anyio==4.2.0\n",
      "app-model==0.2.6\n",
      "appdirs==1.4.4\n",
      "archspec==0.2.3\n",
      "argon2-cffi-bindings==21.2.0\n",
      "argon2-cffi==21.3.0\n",
      "asttokens==2.0.5\n",
      "astunparse==1.6.3\n",
      "async-lru==2.0.4\n",
      "attrs==23.1.0\n",
      "babel==2.11.0\n",
      "backcall==0.2.0\n",
      "beautifulsoup4==4.12.2\n",
      "bleach==4.1.0\n",
      "boltons==24.0.0\n",
      "brotli==1.0.9\n",
      "build==1.2.1\n",
      "cachetools==5.3.3\n",
      "cachey==0.2.1\n",
      "certifi==2024.2.2\n",
      "cffi==1.16.0\n",
      "chardet==5.2.0\n",
      "charset-normalizer==2.0.4\n",
      "clang==5.0\n",
      "classification-models-3d==1.0.8\n",
      "click==8.1.7\n",
      "cloudpickle==3.0.0\n",
      "colorama==0.4.6\n",
      "comm==0.2.1\n",
      "conda-libmamba-solver==24.1.0\n",
      "conda-package-handling==2.2.0\n",
      "conda-package-streaming==0.9.0\n",
      "conda==24.5.0\n",
      "contourpy==1.2.1\n",
      "cycler==0.12.1\n",
      "dask==2024.4.2\n",
      "debugpy==1.6.7\n",
      "decorator==5.1.1\n",
      "defusedxml==0.7.1\n",
      "distro==1.9.0\n",
      "docstring-parser==0.16\n",
      "docutils==0.17.1\n",
      "efficientnet-3d==1.0.1\n",
      "exceptiongroup==1.2.0\n",
      "executing==0.8.3\n",
      "fastjsonschema==2.16.2\n",
      "filelock==3.16.1\n",
      "flatbuffers==24.3.25\n",
      "fonttools==4.51.0\n",
      "freetype-py==2.4.0\n",
      "frozendict==2.4.4\n",
      "fsspec==2024.3.1\n",
      "gast==0.4.0\n",
      "google-auth-oauthlib==0.4.6\n",
      "google-auth==2.29.0\n",
      "google-pasta==0.2.0\n",
      "grpcio==1.62.1\n",
      "h5py==3.1.0\n",
      "heapdict==1.0.1\n",
      "hsluv==5.0.4\n",
      "idna==3.4\n",
      "imageio==2.34.0\n",
      "imagesize==1.4.1\n",
      "importlib-metadata==7.1.0\n",
      "importlib-resources==6.4.0\n",
      "in-n-out==0.2.1\n",
      "ipykernel==6.25.0\n",
      "ipython==8.15.0\n",
      "jedi==0.18.1\n",
      "jinja2==3.1.3\n",
      "joblib==1.4.0\n",
      "json5==0.9.6\n",
      "jsonpatch==1.33\n",
      "jsonpointer==2.4\n",
      "jsonschema-specifications==2023.7.1\n",
      "jsonschema==4.19.2\n",
      "jupyter-client==8.6.0\n",
      "jupyter-core==5.5.0\n",
      "jupyter-events==0.8.0\n",
      "jupyter-lsp==2.2.0\n",
      "jupyter-server-terminals==0.4.4\n",
      "jupyter-server==2.10.0\n",
      "jupyterlab-pygments==0.1.2\n",
      "jupyterlab-server==2.25.1\n",
      "jupyterlab==4.0.11\n",
      "keras-applications==1.0.8\n",
      "keras-preprocessing==1.1.2\n",
      "keras==2.10.0\n",
      "kiwisolver==1.4.5\n",
      "lazy-loader==0.4\n",
      "libclang==18.1.1\n",
      "libmambapy==1.5.8\n",
      "locket==1.0.0\n",
      "magicgui==0.8.2\n",
      "mamba==1.5.8\n",
      "markdown-it-py==3.0.0\n",
      "markdown==3.6\n",
      "markupsafe==2.1.5\n",
      "matplotlib-inline==0.1.6\n",
      "matplotlib==3.8.4\n",
      "mdurl==0.1.2\n",
      "menuinst==2.0.2\n",
      "mistune==2.0.4\n",
      "mpmath==1.3.0\n",
      "munkres==1.1.4\n",
      "napari-console==0.0.9\n",
      "napari-plugin-engine==0.2.0\n",
      "napari-svg==0.1.10\n",
      "napari==0.4.19.post1\n",
      "nbclient==0.8.0\n",
      "nbconvert==7.10.0\n",
      "nbformat==5.9.2\n",
      "nest-asyncio==1.6.0\n",
      "networkx==3.2.1\n",
      "neuralplot==0.0.8\n",
      "notebook-shim==0.2.3\n",
      "notebook==7.0.8\n",
      "npe2==0.7.5\n",
      "numpy==1.26.4\n",
      "numpydoc==1.5.0\n",
      "nvidia-pyindex==1.0.9\n",
      "oauthlib==3.2.2\n",
      "opt-einsum==3.3.0\n",
      "overrides==7.4.0\n",
      "packaging==23.2\n",
      "pandas==2.2.2\n",
      "pandocfilters==1.5.0\n",
      "parso==0.8.3\n",
      "partd==1.4.1\n",
      "patchify==0.2.2\n",
      "pickleshare==0.7.5\n",
      "pillow==10.3.0\n",
      "pint==0.23\n",
      "pip==23.3.1\n",
      "platformdirs==3.10.0\n",
      "pluggy==1.5.0\n",
      "ply==3.11\n",
      "pooch==1.8.1\n",
      "prometheus-client==0.14.1\n",
      "prompt-toolkit==3.0.43\n",
      "protobuf==3.19.6\n",
      "psutil==5.9.0\n",
      "psygnal==0.11.0\n",
      "pure-eval==0.2.2\n",
      "pyasn1-modules==0.4.0\n",
      "pyasn1==0.6.0\n",
      "pyconify==0.1.6\n",
      "pycosat==0.6.6\n",
      "pycparser==2.21\n",
      "pydantic-compat==0.1.2\n",
      "pydantic-core==2.18.1\n",
      "pydantic==2.7.0\n",
      "pygments==2.15.1\n",
      "pyopengl==3.1.7\n",
      "pyparsing==3.1.2\n",
      "pyproject-hooks==1.0.0\n",
      "pyqt5-qt5==5.15.2\n",
      "pyqt5-sip==12.12.2\n",
      "pyqt5==5.15.10\n",
      "pyside2==5.15.2.1\n",
      "pysocks==1.7.1\n",
      "python-dateutil==2.8.2\n",
      "python-json-logger==2.0.7\n",
      "pytz==2023.3.post1\n",
      "pywavelets==1.6.0\n",
      "pywin32==305.1\n",
      "pywinpty==2.0.10\n",
      "pyyaml==6.0.1\n",
      "pyzmq==25.1.2\n",
      "qtconsole==5.5.1\n",
      "qtpy==2.4.1\n",
      "referencing==0.30.2\n",
      "requests-oauthlib==2.0.0\n",
      "requests==2.31.0\n",
      "rfc3339-validator==0.1.4\n",
      "rfc3986-validator==0.1.1\n",
      "rich==13.7.1\n",
      "rpds-py==0.10.6\n",
      "rsa==4.9\n",
      "ruamel.yaml.clib==0.2.8\n",
      "ruamel.yaml==0.18.6\n",
      "scikit-image==0.22.0\n",
      "scikit-learn==1.4.2\n",
      "scipy==1.13.0\n",
      "segmentation-models-3d==1.0.1\n",
      "send2trash==1.8.2\n",
      "setuptools==68.2.2\n",
      "shellingham==1.5.4\n",
      "shiboken2==5.15.2.1\n",
      "sip==6.7.12\n",
      "six==1.15.0\n",
      "sniffio==1.3.0\n",
      "snowballstemmer==2.2.0\n",
      "soupsieve==2.5\n",
      "sphinx==4.5.0\n",
      "sphinxcontrib-applehelp==1.0.8\n",
      "sphinxcontrib-devhelp==1.0.6\n",
      "sphinxcontrib-htmlhelp==2.0.5\n",
      "sphinxcontrib-jsmath==1.0.1\n",
      "sphinxcontrib-qthelp==1.0.7\n",
      "sphinxcontrib-serializinghtml==1.1.10\n",
      "stack-data==0.2.0\n",
      "superqt==0.6.3\n",
      "sympy==1.13.1\n",
      "tabulate==0.9.0\n",
      "tensorboard-data-server==0.6.1\n",
      "tensorboard-plugin-wit==1.8.1\n",
      "tensorboard==2.10.1\n",
      "tensorflow-estimator==2.10.0\n",
      "tensorflow-io-gcs-filesystem==0.31.0\n",
      "tensorflow==2.10.0\n",
      "termcolor==1.1.0\n",
      "terminado==0.17.1\n",
      "tf-estimator-nightly==2.8.0.dev2021122109\n",
      "threadpoolctl==3.4.0\n",
      "tifffile==2024.2.12\n",
      "tinycss2==1.2.1\n",
      "toml==0.10.2\n",
      "tomli-w==1.0.0\n",
      "tomli==2.0.1\n",
      "toolz==0.12.1\n",
      "torch==2.5.1\n",
      "tornado==6.3.3\n",
      "tqdm==4.66.2\n",
      "traitlets==5.7.1\n",
      "typer==0.12.3\n",
      "typing-extensions==4.11.0\n",
      "tzdata==2024.1\n",
      "unicodedata2==15.1.0\n",
      "urllib3==2.1.0\n",
      "vispy==0.14.2\n",
      "visualkeras==0.0.2\n",
      "wcwidth==0.2.5\n",
      "webencodings==0.5.1\n",
      "websocket-client==0.58.0\n",
      "werkzeug==3.0.2\n",
      "wheel==0.41.2\n",
      "win-inet-pton==1.1.0\n",
      "wrapt==1.12.1\n",
      "zipp==3.18.1\n",
      "zstandard==0.22.0\n"
     ]
    }
   ],
   "source": [
    "import pkg_resources\n",
    "\n",
    "def get_installed_packages_versions():\n",
    "    installed_packages = pkg_resources.working_set\n",
    "    packages_list = sorted([\"%s==%s\" % (i.key, i.version) for i in installed_packages])\n",
    "    return packages_list\n",
    "print(\"os module is part of Python standard library. Python version:\", sys.version)\n",
    "packages_versions = get_installed_packages_versions()\n",
    "for package in packages_versions:\n",
    "    print(package)\n"
   ]
  },
  {
   "cell_type": "code",
   "execution_count": 4,
   "id": "6897210b-c7c8-463f-aeb5-0a949b30d94a",
   "metadata": {},
   "outputs": [
    {
     "name": "stdout",
     "output_type": "stream",
     "text": [
      "CUDA Version:\n",
      "nvcc: NVIDIA (R) Cuda compiler driver\n",
      "Copyright (c) 2005-2022 NVIDIA Corporation\n",
      "Built on Wed_Sep_21_10:41:10_Pacific_Daylight_Time_2022\n",
      "Cuda compilation tools, release 11.8, V11.8.89\n",
      "Build cuda_11.8.r11.8/compiler.31833905_0\n"
     ]
    }
   ],
   "source": [
    "import subprocess\n",
    "\n",
    "def get_cuda_version():\n",
    "    try:\n",
    "        output = subprocess.check_output(['nvcc', '--version'])\n",
    "        return output.decode('utf-8').strip()\n",
    "    except FileNotFoundError:\n",
    "        return \"nvcc (CUDA) not found\"\n",
    "\n",
    "cuda_version = get_cuda_version()\n",
    "print(\"CUDA Version:\")\n",
    "print(cuda_version)\n"
   ]
  },
  {
   "cell_type": "code",
   "execution_count": 5,
   "id": "dd2e72fe-1340-4422-837d-1f15140a1640",
   "metadata": {},
   "outputs": [
    {
     "ename": "NameError",
     "evalue": "name 'image' is not defined",
     "output_type": "error",
     "traceback": [
      "\u001b[1;31m---------------------------------------------------------------------------\u001b[0m",
      "\u001b[1;31mNameError\u001b[0m                                 Traceback (most recent call last)",
      "Cell \u001b[1;32mIn[5], line 1\u001b[0m\n\u001b[1;32m----> 1\u001b[0m double_the_size_image \u001b[38;5;241m=\u001b[39m np\u001b[38;5;241m.\u001b[39mzeros((\u001b[38;5;241m32\u001b[39m, \u001b[38;5;241m1024\u001b[39m, \u001b[38;5;241m1024\u001b[39m),  dtype\u001b[38;5;241m=\u001b[39m \u001b[43mimage\u001b[49m\u001b[38;5;241m.\u001b[39mdtype)\n\u001b[0;32m      2\u001b[0m double_the_size_image[\u001b[38;5;241m0\u001b[39m:\u001b[38;5;241m17\u001b[39m] \u001b[38;5;241m=\u001b[39m image\n\u001b[0;32m      3\u001b[0m double_the_size_image[\u001b[38;5;241m17\u001b[39m:\u001b[38;5;241m32\u001b[39m] \u001b[38;5;241m=\u001b[39m result_dict[\u001b[38;5;124m'\u001b[39m\u001b[38;5;124mimage\u001b[39m\u001b[38;5;124m'\u001b[39m][matched_pairs[\u001b[38;5;241m0\u001b[39m][\u001b[38;5;241m0\u001b[39m]][:\u001b[38;5;241m15\u001b[39m]\n",
      "\u001b[1;31mNameError\u001b[0m: name 'image' is not defined"
     ]
    }
   ],
   "source": [
    "\n",
    "double_the_size_image = np.zeros((32, 1024, 1024),  dtype= image.dtype)\n",
    "double_the_size_image[0:17] = image\n",
    "double_the_size_image[17:32] = result_dict['image'][matched_pairs[0][0]][:15]\n",
    "image = double_the_size_image\n",
    "\n",
    "\n",
    "double_the_size_mask = np.zeros((32, 1024, 1024), dtype= image.dtype)\n",
    "double_the_size_mask[0:17] = mask\n",
    "double_the_size_mask[17:32] = result_dict['mask'][matched_pairs[0][1]][:15]\n",
    "mask = double_the_size_mask\n"
   ]
  },
  {
   "cell_type": "code",
   "execution_count": null,
   "id": "9ea64b46-fa47-4acc-bd06-f42532d03d01",
   "metadata": {},
   "outputs": [],
   "source": [
    "from patchify import patchify, unpatchify\n",
    "img_patches = patchify(image, (32, 64, 64), step=64)  #Step=64 for 64 patches means no overlap\n",
    "mask_patches = patchify(mask, (32, 64, 64), step=64)  \n",
    "print(img_patches.shape,mask_patches.shape)\n",
    "\n",
    "image_dataset = np.reshape(img_patches, (-1, img_patches.shape[3], img_patches.shape[4], img_patches.shape[5]))\n",
    "mask_dataset = np.reshape(mask_patches, (-1, mask_patches.shape[3], mask_patches.shape[4], mask_patches.shape[5]))\n",
    "\n",
    "print(image_dataset.shape)  # n_patches, x, y, z"
   ]
  },
  {
   "cell_type": "code",
   "execution_count": null,
   "id": "324353e9-73b9-4020-9111-d1edcc4ae172",
   "metadata": {},
   "outputs": [],
   "source": [
    "\n",
    "for i in range(1, len(result_dict['image']),2):\n",
    "    double_the_size_image = np.zeros((32, 1024, 1024),  dtype= image.dtype)\n",
    "    double_the_size_image[0:17] = result_dict['image'][matched_pairs[i][0]]\n",
    "    double_the_size_image[17:32] = result_dict['image'][matched_pairs[i+1][0]][:15]\n",
    "    image = double_the_size_image\n",
    "    \n",
    "    \n",
    "    double_the_size_mask = np.zeros((32, 1024, 1024), dtype= image.dtype)\n",
    "    double_the_size_mask[0:17] = result_dict['mask'][matched_pairs[i][1]]\n",
    "    double_the_size_mask[17:32] = result_dict['mask'][matched_pairs[i+1][1]][:15]\n",
    "    mask = double_the_size_mask\n",
    "\n",
    "    print(f\"patching image {i+1}\")\n",
    "    img_patches = patchify(image, (32, 64, 64), step=64)  #Step=64 for 64 patches means no overlap\n",
    "    mask_patches = patchify(mask, (32, 64, 64), step=64)  \n",
    "    \n",
    "    input_img = np.reshape(img_patches, (-1, img_patches.shape[3], img_patches.shape[4], img_patches.shape[5]))\n",
    "    input_mask = np.reshape(mask_patches, (-1, mask_patches.shape[3], mask_patches.shape[4], mask_patches.shape[5]))\n",
    "    image_dataset = np.concatenate([image_dataset, input_img], axis=0)\n",
    "    mask_dataset = np.concatenate([mask_dataset, input_mask], axis=0)"
   ]
  },
  {
   "cell_type": "markdown",
   "id": "ec150438-34ed-414d-b839-c4b19de975f9",
   "metadata": {},
   "source": [
    "# train the model"
   ]
  },
  {
   "cell_type": "code",
   "execution_count": 15,
   "id": "7ab5fc06-3757-4a4c-80b5-c4739346753e",
   "metadata": {},
   "outputs": [
    {
     "data": {
      "text/plain": [
       "(1024, 32, 64, 64, 1)"
      ]
     },
     "execution_count": 15,
     "metadata": {},
     "output_type": "execute_result"
    }
   ],
   "source": [
    "import numpy as np\n",
    "train_img = np.load('./train_img.npy')\n",
    "train_mask = np.load('./train_mask.npy')\n",
    "\n",
    "train_mask.shape"
   ]
  },
  {
   "cell_type": "code",
   "execution_count": 6,
   "id": "c9e00b5b-24e8-4e06-addf-ee1f4a70bbf9",
   "metadata": {},
   "outputs": [],
   "source": [
    "X_train = np.load('./X_train.npy')\n",
    "X_test = np.load('./X_test.npy')\n",
    "y_train = np.load('./y_train.npy')\n",
    "y_test = np.load('./y_test.npy')\n"
   ]
  },
  {
   "cell_type": "code",
   "execution_count": 23,
   "id": "4389bd98-06e0-49f1-aac2-b3b42b0685ca",
   "metadata": {},
   "outputs": [
    {
     "name": "stdout",
     "output_type": "stream",
     "text": [
      "(921, 32, 64, 64, 3) (921, 32, 64, 64, 3)\n",
      "421\n"
     ]
    },
    {
     "data": {
      "image/png": "[encoded data removed]",
      "text/plain": [
       "<Figure size 1200x600 with 2 Axes>"
      ]
     },
     "metadata": {},
     "output_type": "display_data"
    }
   ],
   "source": [
    "#Sanity check, view few mages\n",
    "import random\n",
    "import numpy as np\n",
    "print(X_train_prep.shape, y_train.shape)\n",
    "image_number = random.randint(0, len(X_train_prep))\n",
    "print(image_number)\n",
    "plt.figure(figsize=(12, 6))\n",
    "plt.subplot(121)\n",
    "plt.imshow(X_train_prep[image_number,:,:,28,1])\n",
    "plt.subplot(122)\n",
    "plt.imshow(y_train[image_number,:,:,28,1])\n",
    "plt.show()"
   ]
  },
  {
   "cell_type": "code",
   "execution_count": 7,
   "id": "0ba47ce7-2e94-4d13-aa30-38e6b7356a42",
   "metadata": {},
   "outputs": [],
   "source": [
    "#Define parameters for our model.\n",
    "\n",
    "encoder_weights = 'imagenet'\n",
    "BACKBONE = 'vgg16'  #Try vgg16, efficientnetb7, inceptionv3, resnet50\n",
    "activation = 'softmax'\n",
    "n_classes = 3\n",
    "channels=3\n",
    "\n",
    "LR = 0.0001\n",
    "dice_loss = sm.losses.DiceLoss(class_weights=np.array([0.333, 0.333, 0.333])) #优点：对于不平衡的数据集和像素级别的分割任务效果较好，能够更好地处理类别间的不平衡。缺点：对噪声敏感，容易受到边缘效应的影响。\n",
    "focal_loss = sm.losses.CategoricalFocalLoss()#优点：能够解决类别不平衡问题，通过调节alpha和gamma参数可以进一步调整损失函数的重点。缺点：需要调节额外的参数，可能需要进行一定的调参工作。\n",
    "total_loss = dice_loss + (1 * focal_loss)\n",
    "metrics = [sm.metrics.IOUScore(threshold=0.5)]"
   ]
  },
  {
   "cell_type": "code",
   "execution_count": 8,
   "id": "c3bf352c-5270-4853-a455-72af7dee87df",
   "metadata": {},
   "outputs": [],
   "source": [
    "preprocess_input = sm.get_preprocessing(BACKBONE)"
   ]
  },
  {
   "cell_type": "code",
   "execution_count": 9,
   "id": "5ea7984e-2fb4-4275-b478-1d143491f8b1",
   "metadata": {},
   "outputs": [],
   "source": [
    "X_train_prep = preprocess_input(X_train)\n",
    "X_test_prep = preprocess_input(X_test)"
   ]
  },
  {
   "cell_type": "code",
   "execution_count": 10,
   "id": "3bf06796-be97-4c13-97e7-dbe25131c250",
   "metadata": {},
   "outputs": [
    {
     "data": {
      "text/plain": [
       "(921, 32, 64, 64, 3)"
      ]
     },
     "execution_count": 10,
     "metadata": {},
     "output_type": "execute_result"
    }
   ],
   "source": [
    "X_train_prep.shape"
   ]
  },
  {
   "cell_type": "code",
   "execution_count": 11,
   "id": "11f1fc87-a172-43c1-aeb6-1721b379de49",
   "metadata": {},
   "outputs": [],
   "source": [
    "\n",
    "#Define the model. Here we use Unet but we can also use other model architectures from the library.\n",
    "model = sm.Unet(BACKBONE, classes=n_classes, \n",
    "                input_shape=(32, 64, 64, channels), \n",
    "                encoder_weights=encoder_weights,\n",
    "                activation='softmax')\n",
    "\n",
    "model.compile(optimizer = optim, loss=total_loss, metrics=metrics)"
   ]
  },
  {
   "cell_type": "code",
   "execution_count": 12,
   "id": "81fe6027-1875-4007-a993-188aec6a9aba",
   "metadata": {},
   "outputs": [],
   "source": [
    "from tensorflow.keras.callbacks import ModelCheckpoint, ReduceLROnPlateau, CSVLogger, EarlyStopping\n",
    "\n",
    "#early_stopping = EarlyStopping(monitor='val_loss', patience=20, restore_best_weights = False)\n",
    "model_checkpoint = ModelCheckpoint('./best_model.h5', monitor='val_loss', save_best_only=True)\n",
    "\n",
    "callbacks=[#early_stopping,\n",
    "           model_checkpoint,\n",
    "                  CSVLogger('./history_au.csv'),\n",
    "            ReduceLROnPlateau(monitor='val_loss', factor=0.1, patience=10)\n",
    "          ]"
   ]
  },
  {
   "cell_type": "code",
   "execution_count": 13,
   "id": "3c050d05-359c-4a4c-9075-cf0dd04cfe0e",
   "metadata": {},
   "outputs": [
    {
     "name": "stdout",
     "output_type": "stream",
     "text": [
      "Model: \"model\"\n",
      "__________________________________________________________________________________________________\n",
      " Layer (type)                   Output Shape         Param #     Connected to                     \n",
      "==================================================================================================\n",
      " input_1 (InputLayer)           [(None, 32, 64, 64,  0           []                               \n",
      "                                 3)]                                                              \n",
      "                                                                                                  \n",
      " block1_conv1 (Conv3D)          (None, 32, 64, 64,   5248        ['input_1[0][0]']                \n",
      "                                64)                                                               \n",
      "                                                                                                  \n",
      " block1_conv2 (Conv3D)          (None, 32, 64, 64,   110656      ['block1_conv1[0][0]']           \n",
      "                                64)                                                               \n",
      "                                                                                                  \n",
      " block1_pool (MaxPooling3D)     (None, 16, 32, 32,   0           ['block1_conv2[0][0]']           \n",
      "                                64)                                                               \n",
      "                                                                                                  \n",
      " block2_conv1 (Conv3D)          (None, 16, 32, 32,   221312      ['block1_pool[0][0]']            \n",
      "                                128)                                                              \n",
      "                                                                                                  \n",
      " block2_conv2 (Conv3D)          (None, 16, 32, 32,   442496      ['block2_conv1[0][0]']           \n",
      "                                128)                                                              \n",
      "                                                                                                  \n",
      " block2_pool (MaxPooling3D)     (None, 8, 16, 16, 1  0           ['block2_conv2[0][0]']           \n",
      "                                28)                                                               \n",
      "                                                                                                  \n",
      " block3_conv1 (Conv3D)          (None, 8, 16, 16, 2  884992      ['block2_pool[0][0]']            \n",
      "                                56)                                                               \n",
      "                                                                                                  \n",
      " block3_conv2 (Conv3D)          (None, 8, 16, 16, 2  1769728     ['block3_conv1[0][0]']           \n",
      "                                56)                                                               \n",
      "                                                                                                  \n",
      " block3_conv3 (Conv3D)          (None, 8, 16, 16, 2  1769728     ['block3_conv2[0][0]']           \n",
      "                                56)                                                               \n",
      "                                                                                                  \n",
      " block3_pool (MaxPooling3D)     (None, 4, 8, 8, 256  0           ['block3_conv3[0][0]']           \n",
      "                                )                                                                 \n",
      "                                                                                                  \n",
      " block4_conv1 (Conv3D)          (None, 4, 8, 8, 512  3539456     ['block3_pool[0][0]']            \n",
      "                                )                                                                 \n",
      "                                                                                                  \n",
      " block4_conv2 (Conv3D)          (None, 4, 8, 8, 512  7078400     ['block4_conv1[0][0]']           \n",
      "                                )                                                                 \n",
      "                                                                                                  \n",
      " block4_conv3 (Conv3D)          (None, 4, 8, 8, 512  7078400     ['block4_conv2[0][0]']           \n",
      "                                )                                                                 \n",
      "                                                                                                  \n",
      " block4_pool (MaxPooling3D)     (None, 2, 4, 4, 512  0           ['block4_conv3[0][0]']           \n",
      "                                )                                                                 \n",
      "                                                                                                  \n",
      " block5_conv1 (Conv3D)          (None, 2, 4, 4, 512  7078400     ['block4_pool[0][0]']            \n",
      "                                )                                                                 \n",
      "                                                                                                  \n",
      " block5_conv2 (Conv3D)          (None, 2, 4, 4, 512  7078400     ['block5_conv1[0][0]']           \n",
      "                                )                                                                 \n",
      "                                                                                                  \n",
      " block5_conv3 (Conv3D)          (None, 2, 4, 4, 512  7078400     ['block5_conv2[0][0]']           \n",
      "                                )                                                                 \n",
      "                                                                                                  \n",
      " block5_pool (MaxPooling3D)     (None, 1, 2, 2, 512  0           ['block5_conv3[0][0]']           \n",
      "                                )                                                                 \n",
      "                                                                                                  \n",
      " center_block1_conv (Conv3D)    (None, 1, 2, 2, 512  7077888     ['block5_pool[0][0]']            \n",
      "                                )                                                                 \n",
      "                                                                                                  \n",
      " center_block1_bn (BatchNormali  (None, 1, 2, 2, 512  2048       ['center_block1_conv[0][0]']     \n",
      " zation)                        )                                                                 \n",
      "                                                                                                  \n",
      " center_block1_relu (Activation  (None, 1, 2, 2, 512  0          ['center_block1_bn[0][0]']       \n",
      " )                              )                                                                 \n",
      "                                                                                                  \n",
      " center_block2_conv (Conv3D)    (None, 1, 2, 2, 512  7077888     ['center_block1_relu[0][0]']     \n",
      "                                )                                                                 \n",
      "                                                                                                  \n",
      " center_block2_bn (BatchNormali  (None, 1, 2, 2, 512  2048       ['center_block2_conv[0][0]']     \n",
      " zation)                        )                                                                 \n",
      "                                                                                                  \n",
      " center_block2_relu (Activation  (None, 1, 2, 2, 512  0          ['center_block2_bn[0][0]']       \n",
      " )                              )                                                                 \n",
      "                                                                                                  \n",
      " decoder_stage0_upsampling (UpS  (None, 2, 4, 4, 512  0          ['center_block2_relu[0][0]']     \n",
      " ampling3D)                     )                                                                 \n",
      "                                                                                                  \n",
      " decoder_stage0_concat (Concate  (None, 2, 4, 4, 102  0          ['decoder_stage0_upsampling[0][0]\n",
      " nate)                          4)                               ',                               \n",
      "                                                                  'block5_conv3[0][0]']           \n",
      "                                                                                                  \n",
      " decoder_stage0a_conv (Conv3D)  (None, 2, 4, 4, 256  7077888     ['decoder_stage0_concat[0][0]']  \n",
      "                                )                                                                 \n",
      "                                                                                                  \n",
      " decoder_stage0a_bn (BatchNorma  (None, 2, 4, 4, 256  1024       ['decoder_stage0a_conv[0][0]']   \n",
      " lization)                      )                                                                 \n",
      "                                                                                                  \n",
      " decoder_stage0a_relu (Activati  (None, 2, 4, 4, 256  0          ['decoder_stage0a_bn[0][0]']     \n",
      " on)                            )                                                                 \n",
      "                                                                                                  \n",
      " decoder_stage0b_conv (Conv3D)  (None, 2, 4, 4, 256  1769472     ['decoder_stage0a_relu[0][0]']   \n",
      "                                )                                                                 \n",
      "                                                                                                  \n",
      " decoder_stage0b_bn (BatchNorma  (None, 2, 4, 4, 256  1024       ['decoder_stage0b_conv[0][0]']   \n",
      " lization)                      )                                                                 \n",
      "                                                                                                  \n",
      " decoder_stage0b_relu (Activati  (None, 2, 4, 4, 256  0          ['decoder_stage0b_bn[0][0]']     \n",
      " on)                            )                                                                 \n",
      "                                                                                                  \n",
      " decoder_stage1_upsampling (UpS  (None, 4, 8, 8, 256  0          ['decoder_stage0b_relu[0][0]']   \n",
      " ampling3D)                     )                                                                 \n",
      "                                                                                                  \n",
      " decoder_stage1_concat (Concate  (None, 4, 8, 8, 768  0          ['decoder_stage1_upsampling[0][0]\n",
      " nate)                          )                                ',                               \n",
      "                                                                  'block4_conv3[0][0]']           \n",
      "                                                                                                  \n",
      " decoder_stage1a_conv (Conv3D)  (None, 4, 8, 8, 128  2654208     ['decoder_stage1_concat[0][0]']  \n",
      "                                )                                                                 \n",
      "                                                                                                  \n",
      " decoder_stage1a_bn (BatchNorma  (None, 4, 8, 8, 128  512        ['decoder_stage1a_conv[0][0]']   \n",
      " lization)                      )                                                                 \n",
      "                                                                                                  \n",
      " decoder_stage1a_relu (Activati  (None, 4, 8, 8, 128  0          ['decoder_stage1a_bn[0][0]']     \n",
      " on)                            )                                                                 \n",
      "                                                                                                  \n",
      " decoder_stage1b_conv (Conv3D)  (None, 4, 8, 8, 128  442368      ['decoder_stage1a_relu[0][0]']   \n",
      "                                )                                                                 \n",
      "                                                                                                  \n",
      " decoder_stage1b_bn (BatchNorma  (None, 4, 8, 8, 128  512        ['decoder_stage1b_conv[0][0]']   \n",
      " lization)                      )                                                                 \n",
      "                                                                                                  \n",
      " decoder_stage1b_relu (Activati  (None, 4, 8, 8, 128  0          ['decoder_stage1b_bn[0][0]']     \n",
      " on)                            )                                                                 \n",
      "                                                                                                  \n",
      " decoder_stage2_upsampling (UpS  (None, 8, 16, 16, 1  0          ['decoder_stage1b_relu[0][0]']   \n",
      " ampling3D)                     28)                                                               \n",
      "                                                                                                  \n",
      " decoder_stage2_concat (Concate  (None, 8, 16, 16, 3  0          ['decoder_stage2_upsampling[0][0]\n",
      " nate)                          84)                              ',                               \n",
      "                                                                  'block3_conv3[0][0]']           \n",
      "                                                                                                  \n",
      " decoder_stage2a_conv (Conv3D)  (None, 8, 16, 16, 6  663552      ['decoder_stage2_concat[0][0]']  \n",
      "                                4)                                                                \n",
      "                                                                                                  \n",
      " decoder_stage2a_bn (BatchNorma  (None, 8, 16, 16, 6  256        ['decoder_stage2a_conv[0][0]']   \n",
      " lization)                      4)                                                                \n",
      "                                                                                                  \n",
      " decoder_stage2a_relu (Activati  (None, 8, 16, 16, 6  0          ['decoder_stage2a_bn[0][0]']     \n",
      " on)                            4)                                                                \n",
      "                                                                                                  \n",
      " decoder_stage2b_conv (Conv3D)  (None, 8, 16, 16, 6  110592      ['decoder_stage2a_relu[0][0]']   \n",
      "                                4)                                                                \n",
      "                                                                                                  \n",
      " decoder_stage2b_bn (BatchNorma  (None, 8, 16, 16, 6  256        ['decoder_stage2b_conv[0][0]']   \n",
      " lization)                      4)                                                                \n",
      "                                                                                                  \n",
      " decoder_stage2b_relu (Activati  (None, 8, 16, 16, 6  0          ['decoder_stage2b_bn[0][0]']     \n",
      " on)                            4)                                                                \n",
      "                                                                                                  \n",
      " decoder_stage3_upsampling (UpS  (None, 16, 32, 32,   0          ['decoder_stage2b_relu[0][0]']   \n",
      " ampling3D)                     64)                                                               \n",
      "                                                                                                  \n",
      " decoder_stage3_concat (Concate  (None, 16, 32, 32,   0          ['decoder_stage3_upsampling[0][0]\n",
      " nate)                          192)                             ',                               \n",
      "                                                                  'block2_conv2[0][0]']           \n",
      "                                                                                                  \n",
      " decoder_stage3a_conv (Conv3D)  (None, 16, 32, 32,   165888      ['decoder_stage3_concat[0][0]']  \n",
      "                                32)                                                               \n",
      "                                                                                                  \n",
      " decoder_stage3a_bn (BatchNorma  (None, 16, 32, 32,   128        ['decoder_stage3a_conv[0][0]']   \n",
      " lization)                      32)                                                               \n",
      "                                                                                                  \n",
      " decoder_stage3a_relu (Activati  (None, 16, 32, 32,   0          ['decoder_stage3a_bn[0][0]']     \n",
      " on)                            32)                                                               \n",
      "                                                                                                  \n",
      " decoder_stage3b_conv (Conv3D)  (None, 16, 32, 32,   27648       ['decoder_stage3a_relu[0][0]']   \n",
      "                                32)                                                               \n",
      "                                                                                                  \n",
      " decoder_stage3b_bn (BatchNorma  (None, 16, 32, 32,   128        ['decoder_stage3b_conv[0][0]']   \n",
      " lization)                      32)                                                               \n",
      "                                                                                                  \n",
      " decoder_stage3b_relu (Activati  (None, 16, 32, 32,   0          ['decoder_stage3b_bn[0][0]']     \n",
      " on)                            32)                                                               \n",
      "                                                                                                  \n",
      " decoder_stage4_upsampling (UpS  (None, 32, 64, 64,   0          ['decoder_stage3b_relu[0][0]']   \n",
      " ampling3D)                     32)                                                               \n",
      "                                                                                                  \n",
      " decoder_stage4a_conv (Conv3D)  (None, 32, 64, 64,   13824       ['decoder_stage4_upsampling[0][0]\n",
      "                                16)                              ']                               \n",
      "                                                                                                  \n",
      " decoder_stage4a_bn (BatchNorma  (None, 32, 64, 64,   64         ['decoder_stage4a_conv[0][0]']   \n",
      " lization)                      16)                                                               \n",
      "                                                                                                  \n",
      " decoder_stage4a_relu (Activati  (None, 32, 64, 64,   0          ['decoder_stage4a_bn[0][0]']     \n",
      " on)                            16)                                                               \n",
      "                                                                                                  \n",
      " decoder_stage4b_conv (Conv3D)  (None, 32, 64, 64,   6912        ['decoder_stage4a_relu[0][0]']   \n",
      "                                16)                                                               \n",
      "                                                                                                  \n",
      " decoder_stage4b_bn (BatchNorma  (None, 32, 64, 64,   64         ['decoder_stage4b_conv[0][0]']   \n",
      " lization)                      16)                                                               \n",
      "                                                                                                  \n",
      " decoder_stage4b_relu (Activati  (None, 32, 64, 64,   0          ['decoder_stage4b_bn[0][0]']     \n",
      " on)                            16)                                                               \n",
      "                                                                                                  \n",
      " final_conv (Conv3D)            (None, 32, 64, 64,   1299        ['decoder_stage4b_relu[0][0]']   \n",
      "                                3)                                                                \n",
      "                                                                                                  \n",
      " softmax (Activation)           (None, 32, 64, 64,   0           ['final_conv[0][0]']             \n",
      "                                3)                                                                \n",
      "                                                                                                  \n",
      "==================================================================================================\n",
      "Total params: 71,233,107\n",
      "Trainable params: 71,229,075\n",
      "Non-trainable params: 4,032\n",
      "__________________________________________________________________________________________________\n",
      "None\n"
     ]
    }
   ],
   "source": [
    "print(model.summary())"
   ]
  },
  {
   "cell_type": "code",
   "execution_count": 14,
   "id": "46384e61-cb41-4c77-952c-9c0d9dba85cf",
   "metadata": {
    "collapsed": true,
    "jupyter": {
     "outputs_hidden": true
    }
   },
   "outputs": [
    {
     "name": "stdout",
     "output_type": "stream",
     "text": [
      "Epoch 1/500\n",
      " 52/461 [==>...........................] - ETA: 53:42 - loss: 0.9274 - iou_score: 0.2315"
     ]
    },
    {
     "ename": "KeyboardInterrupt",
     "evalue": "",
     "output_type": "error",
     "traceback": [
      "\u001b[1;31m---------------------------------------------------------------------------\u001b[0m",
      "\u001b[1;31mKeyboardInterrupt\u001b[0m                         Traceback (most recent call last)",
      "Cell \u001b[1;32mIn[14], line 2\u001b[0m\n\u001b[0;32m      1\u001b[0m \u001b[38;5;66;03m#Fit the model\u001b[39;00m\n\u001b[1;32m----> 2\u001b[0m history\u001b[38;5;241m=\u001b[39m\u001b[43mmodel\u001b[49m\u001b[38;5;241;43m.\u001b[39;49m\u001b[43mfit\u001b[49m\u001b[43m(\u001b[49m\u001b[43mX_train_prep\u001b[49m\u001b[43m,\u001b[49m\u001b[43m \u001b[49m\n\u001b[0;32m      3\u001b[0m \u001b[43m                  \u001b[49m\u001b[43my_train\u001b[49m\u001b[43m,\u001b[49m\n\u001b[0;32m      4\u001b[0m \u001b[43m                  \u001b[49m\u001b[43mbatch_size\u001b[49m\u001b[38;5;241;43m=\u001b[39;49m\u001b[38;5;241;43m2\u001b[39;49m\u001b[43m,\u001b[49m\u001b[43m \u001b[49m\n\u001b[0;32m      5\u001b[0m \u001b[43m                  \u001b[49m\u001b[43mepochs\u001b[49m\u001b[38;5;241;43m=\u001b[39;49m\u001b[38;5;241;43m500\u001b[39;49m\u001b[43m,\u001b[49m\n\u001b[0;32m      6\u001b[0m \u001b[43m                  \u001b[49m\u001b[43mvalidation_data\u001b[49m\u001b[38;5;241;43m=\u001b[39;49m\u001b[43m(\u001b[49m\u001b[43mX_test_prep\u001b[49m\u001b[43m,\u001b[49m\u001b[43my_test\u001b[49m\u001b[43m)\u001b[49m\u001b[43m,\u001b[49m\n\u001b[0;32m      7\u001b[0m \u001b[43m                  \u001b[49m\u001b[43mcallbacks\u001b[49m\u001b[38;5;241;43m=\u001b[39;49m\u001b[43mcallbacks\u001b[49m\u001b[43m)\u001b[49m\n",
      "File \u001b[1;32m~\\anaconda3\\envs\\390\\lib\\site-packages\\keras\\utils\\traceback_utils.py:65\u001b[0m, in \u001b[0;36mfilter_traceback.<locals>.error_handler\u001b[1;34m(*args, **kwargs)\u001b[0m\n\u001b[0;32m     63\u001b[0m filtered_tb \u001b[38;5;241m=\u001b[39m \u001b[38;5;28;01mNone\u001b[39;00m\n\u001b[0;32m     64\u001b[0m \u001b[38;5;28;01mtry\u001b[39;00m:\n\u001b[1;32m---> 65\u001b[0m     \u001b[38;5;28;01mreturn\u001b[39;00m fn(\u001b[38;5;241m*\u001b[39margs, \u001b[38;5;241m*\u001b[39m\u001b[38;5;241m*\u001b[39mkwargs)\n\u001b[0;32m     66\u001b[0m \u001b[38;5;28;01mexcept\u001b[39;00m \u001b[38;5;167;01mException\u001b[39;00m \u001b[38;5;28;01mas\u001b[39;00m e:\n\u001b[0;32m     67\u001b[0m     filtered_tb \u001b[38;5;241m=\u001b[39m _process_traceback_frames(e\u001b[38;5;241m.\u001b[39m__traceback__)\n",
      "File \u001b[1;32m~\\anaconda3\\envs\\390\\lib\\site-packages\\keras\\engine\\training.py:1564\u001b[0m, in \u001b[0;36mModel.fit\u001b[1;34m(self, x, y, batch_size, epochs, verbose, callbacks, validation_split, validation_data, shuffle, class_weight, sample_weight, initial_epoch, steps_per_epoch, validation_steps, validation_batch_size, validation_freq, max_queue_size, workers, use_multiprocessing)\u001b[0m\n\u001b[0;32m   1556\u001b[0m \u001b[38;5;28;01mwith\u001b[39;00m tf\u001b[38;5;241m.\u001b[39mprofiler\u001b[38;5;241m.\u001b[39mexperimental\u001b[38;5;241m.\u001b[39mTrace(\n\u001b[0;32m   1557\u001b[0m     \u001b[38;5;124m\"\u001b[39m\u001b[38;5;124mtrain\u001b[39m\u001b[38;5;124m\"\u001b[39m,\n\u001b[0;32m   1558\u001b[0m     epoch_num\u001b[38;5;241m=\u001b[39mepoch,\n\u001b[1;32m   (...)\u001b[0m\n\u001b[0;32m   1561\u001b[0m     _r\u001b[38;5;241m=\u001b[39m\u001b[38;5;241m1\u001b[39m,\n\u001b[0;32m   1562\u001b[0m ):\n\u001b[0;32m   1563\u001b[0m     callbacks\u001b[38;5;241m.\u001b[39mon_train_batch_begin(step)\n\u001b[1;32m-> 1564\u001b[0m     tmp_logs \u001b[38;5;241m=\u001b[39m \u001b[38;5;28;43mself\u001b[39;49m\u001b[38;5;241;43m.\u001b[39;49m\u001b[43mtrain_function\u001b[49m\u001b[43m(\u001b[49m\u001b[43miterator\u001b[49m\u001b[43m)\u001b[49m\n\u001b[0;32m   1565\u001b[0m     \u001b[38;5;28;01mif\u001b[39;00m data_handler\u001b[38;5;241m.\u001b[39mshould_sync:\n\u001b[0;32m   1566\u001b[0m         context\u001b[38;5;241m.\u001b[39masync_wait()\n",
      "File \u001b[1;32m~\\anaconda3\\envs\\390\\lib\\site-packages\\tensorflow\\python\\util\\traceback_utils.py:150\u001b[0m, in \u001b[0;36mfilter_traceback.<locals>.error_handler\u001b[1;34m(*args, **kwargs)\u001b[0m\n\u001b[0;32m    148\u001b[0m filtered_tb \u001b[38;5;241m=\u001b[39m \u001b[38;5;28;01mNone\u001b[39;00m\n\u001b[0;32m    149\u001b[0m \u001b[38;5;28;01mtry\u001b[39;00m:\n\u001b[1;32m--> 150\u001b[0m   \u001b[38;5;28;01mreturn\u001b[39;00m fn(\u001b[38;5;241m*\u001b[39margs, \u001b[38;5;241m*\u001b[39m\u001b[38;5;241m*\u001b[39mkwargs)\n\u001b[0;32m    151\u001b[0m \u001b[38;5;28;01mexcept\u001b[39;00m \u001b[38;5;167;01mException\u001b[39;00m \u001b[38;5;28;01mas\u001b[39;00m e:\n\u001b[0;32m    152\u001b[0m   filtered_tb \u001b[38;5;241m=\u001b[39m _process_traceback_frames(e\u001b[38;5;241m.\u001b[39m__traceback__)\n",
      "File \u001b[1;32m~\\anaconda3\\envs\\390\\lib\\site-packages\\tensorflow\\python\\eager\\def_function.py:915\u001b[0m, in \u001b[0;36mFunction.__call__\u001b[1;34m(self, *args, **kwds)\u001b[0m\n\u001b[0;32m    912\u001b[0m compiler \u001b[38;5;241m=\u001b[39m \u001b[38;5;124m\"\u001b[39m\u001b[38;5;124mxla\u001b[39m\u001b[38;5;124m\"\u001b[39m \u001b[38;5;28;01mif\u001b[39;00m \u001b[38;5;28mself\u001b[39m\u001b[38;5;241m.\u001b[39m_jit_compile \u001b[38;5;28;01melse\u001b[39;00m \u001b[38;5;124m\"\u001b[39m\u001b[38;5;124mnonXla\u001b[39m\u001b[38;5;124m\"\u001b[39m\n\u001b[0;32m    914\u001b[0m \u001b[38;5;28;01mwith\u001b[39;00m OptionalXlaContext(\u001b[38;5;28mself\u001b[39m\u001b[38;5;241m.\u001b[39m_jit_compile):\n\u001b[1;32m--> 915\u001b[0m   result \u001b[38;5;241m=\u001b[39m \u001b[38;5;28mself\u001b[39m\u001b[38;5;241m.\u001b[39m_call(\u001b[38;5;241m*\u001b[39margs, \u001b[38;5;241m*\u001b[39m\u001b[38;5;241m*\u001b[39mkwds)\n\u001b[0;32m    917\u001b[0m new_tracing_count \u001b[38;5;241m=\u001b[39m \u001b[38;5;28mself\u001b[39m\u001b[38;5;241m.\u001b[39mexperimental_get_tracing_count()\n\u001b[0;32m    918\u001b[0m without_tracing \u001b[38;5;241m=\u001b[39m (tracing_count \u001b[38;5;241m==\u001b[39m new_tracing_count)\n",
      "File \u001b[1;32m~\\anaconda3\\envs\\390\\lib\\site-packages\\tensorflow\\python\\eager\\def_function.py:947\u001b[0m, in \u001b[0;36mFunction._call\u001b[1;34m(self, *args, **kwds)\u001b[0m\n\u001b[0;32m    944\u001b[0m   \u001b[38;5;28mself\u001b[39m\u001b[38;5;241m.\u001b[39m_lock\u001b[38;5;241m.\u001b[39mrelease()\n\u001b[0;32m    945\u001b[0m   \u001b[38;5;66;03m# In this case we have created variables on the first call, so we run the\u001b[39;00m\n\u001b[0;32m    946\u001b[0m   \u001b[38;5;66;03m# defunned version which is guaranteed to never create variables.\u001b[39;00m\n\u001b[1;32m--> 947\u001b[0m   \u001b[38;5;28;01mreturn\u001b[39;00m \u001b[38;5;28mself\u001b[39m\u001b[38;5;241m.\u001b[39m_stateless_fn(\u001b[38;5;241m*\u001b[39margs, \u001b[38;5;241m*\u001b[39m\u001b[38;5;241m*\u001b[39mkwds)  \u001b[38;5;66;03m# pylint: disable=not-callable\u001b[39;00m\n\u001b[0;32m    948\u001b[0m \u001b[38;5;28;01melif\u001b[39;00m \u001b[38;5;28mself\u001b[39m\u001b[38;5;241m.\u001b[39m_stateful_fn \u001b[38;5;129;01mis\u001b[39;00m \u001b[38;5;129;01mnot\u001b[39;00m \u001b[38;5;28;01mNone\u001b[39;00m:\n\u001b[0;32m    949\u001b[0m   \u001b[38;5;66;03m# Release the lock early so that multiple threads can perform the call\u001b[39;00m\n\u001b[0;32m    950\u001b[0m   \u001b[38;5;66;03m# in parallel.\u001b[39;00m\n\u001b[0;32m    951\u001b[0m   \u001b[38;5;28mself\u001b[39m\u001b[38;5;241m.\u001b[39m_lock\u001b[38;5;241m.\u001b[39mrelease()\n",
      "File \u001b[1;32m~\\anaconda3\\envs\\390\\lib\\site-packages\\tensorflow\\python\\eager\\function.py:2496\u001b[0m, in \u001b[0;36mFunction.__call__\u001b[1;34m(self, *args, **kwargs)\u001b[0m\n\u001b[0;32m   2493\u001b[0m \u001b[38;5;28;01mwith\u001b[39;00m \u001b[38;5;28mself\u001b[39m\u001b[38;5;241m.\u001b[39m_lock:\n\u001b[0;32m   2494\u001b[0m   (graph_function,\n\u001b[0;32m   2495\u001b[0m    filtered_flat_args) \u001b[38;5;241m=\u001b[39m \u001b[38;5;28mself\u001b[39m\u001b[38;5;241m.\u001b[39m_maybe_define_function(args, kwargs)\n\u001b[1;32m-> 2496\u001b[0m \u001b[38;5;28;01mreturn\u001b[39;00m \u001b[43mgraph_function\u001b[49m\u001b[38;5;241;43m.\u001b[39;49m\u001b[43m_call_flat\u001b[49m\u001b[43m(\u001b[49m\n\u001b[0;32m   2497\u001b[0m \u001b[43m    \u001b[49m\u001b[43mfiltered_flat_args\u001b[49m\u001b[43m,\u001b[49m\u001b[43m \u001b[49m\u001b[43mcaptured_inputs\u001b[49m\u001b[38;5;241;43m=\u001b[39;49m\u001b[43mgraph_function\u001b[49m\u001b[38;5;241;43m.\u001b[39;49m\u001b[43mcaptured_inputs\u001b[49m\u001b[43m)\u001b[49m\n",
      "File \u001b[1;32m~\\anaconda3\\envs\\390\\lib\\site-packages\\tensorflow\\python\\eager\\function.py:1862\u001b[0m, in \u001b[0;36mConcreteFunction._call_flat\u001b[1;34m(self, args, captured_inputs, cancellation_manager)\u001b[0m\n\u001b[0;32m   1858\u001b[0m possible_gradient_type \u001b[38;5;241m=\u001b[39m gradients_util\u001b[38;5;241m.\u001b[39mPossibleTapeGradientTypes(args)\n\u001b[0;32m   1859\u001b[0m \u001b[38;5;28;01mif\u001b[39;00m (possible_gradient_type \u001b[38;5;241m==\u001b[39m gradients_util\u001b[38;5;241m.\u001b[39mPOSSIBLE_GRADIENT_TYPES_NONE\n\u001b[0;32m   1860\u001b[0m     \u001b[38;5;129;01mand\u001b[39;00m executing_eagerly):\n\u001b[0;32m   1861\u001b[0m   \u001b[38;5;66;03m# No tape is watching; skip to running the function.\u001b[39;00m\n\u001b[1;32m-> 1862\u001b[0m   \u001b[38;5;28;01mreturn\u001b[39;00m \u001b[38;5;28mself\u001b[39m\u001b[38;5;241m.\u001b[39m_build_call_outputs(\u001b[38;5;28;43mself\u001b[39;49m\u001b[38;5;241;43m.\u001b[39;49m\u001b[43m_inference_function\u001b[49m\u001b[38;5;241;43m.\u001b[39;49m\u001b[43mcall\u001b[49m\u001b[43m(\u001b[49m\n\u001b[0;32m   1863\u001b[0m \u001b[43m      \u001b[49m\u001b[43mctx\u001b[49m\u001b[43m,\u001b[49m\u001b[43m \u001b[49m\u001b[43margs\u001b[49m\u001b[43m,\u001b[49m\u001b[43m \u001b[49m\u001b[43mcancellation_manager\u001b[49m\u001b[38;5;241;43m=\u001b[39;49m\u001b[43mcancellation_manager\u001b[49m\u001b[43m)\u001b[49m)\n\u001b[0;32m   1864\u001b[0m forward_backward \u001b[38;5;241m=\u001b[39m \u001b[38;5;28mself\u001b[39m\u001b[38;5;241m.\u001b[39m_select_forward_and_backward_functions(\n\u001b[0;32m   1865\u001b[0m     args,\n\u001b[0;32m   1866\u001b[0m     possible_gradient_type,\n\u001b[0;32m   1867\u001b[0m     executing_eagerly)\n\u001b[0;32m   1868\u001b[0m forward_function, args_with_tangents \u001b[38;5;241m=\u001b[39m forward_backward\u001b[38;5;241m.\u001b[39mforward()\n",
      "File \u001b[1;32m~\\anaconda3\\envs\\390\\lib\\site-packages\\tensorflow\\python\\eager\\function.py:499\u001b[0m, in \u001b[0;36m_EagerDefinedFunction.call\u001b[1;34m(self, ctx, args, cancellation_manager)\u001b[0m\n\u001b[0;32m    497\u001b[0m \u001b[38;5;28;01mwith\u001b[39;00m _InterpolateFunctionError(\u001b[38;5;28mself\u001b[39m):\n\u001b[0;32m    498\u001b[0m   \u001b[38;5;28;01mif\u001b[39;00m cancellation_manager \u001b[38;5;129;01mis\u001b[39;00m \u001b[38;5;28;01mNone\u001b[39;00m:\n\u001b[1;32m--> 499\u001b[0m     outputs \u001b[38;5;241m=\u001b[39m \u001b[43mexecute\u001b[49m\u001b[38;5;241;43m.\u001b[39;49m\u001b[43mexecute\u001b[49m\u001b[43m(\u001b[49m\n\u001b[0;32m    500\u001b[0m \u001b[43m        \u001b[49m\u001b[38;5;28;43mstr\u001b[39;49m\u001b[43m(\u001b[49m\u001b[38;5;28;43mself\u001b[39;49m\u001b[38;5;241;43m.\u001b[39;49m\u001b[43msignature\u001b[49m\u001b[38;5;241;43m.\u001b[39;49m\u001b[43mname\u001b[49m\u001b[43m)\u001b[49m\u001b[43m,\u001b[49m\n\u001b[0;32m    501\u001b[0m \u001b[43m        \u001b[49m\u001b[43mnum_outputs\u001b[49m\u001b[38;5;241;43m=\u001b[39;49m\u001b[38;5;28;43mself\u001b[39;49m\u001b[38;5;241;43m.\u001b[39;49m\u001b[43m_num_outputs\u001b[49m\u001b[43m,\u001b[49m\n\u001b[0;32m    502\u001b[0m \u001b[43m        \u001b[49m\u001b[43minputs\u001b[49m\u001b[38;5;241;43m=\u001b[39;49m\u001b[43margs\u001b[49m\u001b[43m,\u001b[49m\n\u001b[0;32m    503\u001b[0m \u001b[43m        \u001b[49m\u001b[43mattrs\u001b[49m\u001b[38;5;241;43m=\u001b[39;49m\u001b[43mattrs\u001b[49m\u001b[43m,\u001b[49m\n\u001b[0;32m    504\u001b[0m \u001b[43m        \u001b[49m\u001b[43mctx\u001b[49m\u001b[38;5;241;43m=\u001b[39;49m\u001b[43mctx\u001b[49m\u001b[43m)\u001b[49m\n\u001b[0;32m    505\u001b[0m   \u001b[38;5;28;01melse\u001b[39;00m:\n\u001b[0;32m    506\u001b[0m     outputs \u001b[38;5;241m=\u001b[39m execute\u001b[38;5;241m.\u001b[39mexecute_with_cancellation(\n\u001b[0;32m    507\u001b[0m         \u001b[38;5;28mstr\u001b[39m(\u001b[38;5;28mself\u001b[39m\u001b[38;5;241m.\u001b[39msignature\u001b[38;5;241m.\u001b[39mname),\n\u001b[0;32m    508\u001b[0m         num_outputs\u001b[38;5;241m=\u001b[39m\u001b[38;5;28mself\u001b[39m\u001b[38;5;241m.\u001b[39m_num_outputs,\n\u001b[1;32m   (...)\u001b[0m\n\u001b[0;32m    511\u001b[0m         ctx\u001b[38;5;241m=\u001b[39mctx,\n\u001b[0;32m    512\u001b[0m         cancellation_manager\u001b[38;5;241m=\u001b[39mcancellation_manager)\n",
      "File \u001b[1;32m~\\anaconda3\\envs\\390\\lib\\site-packages\\tensorflow\\python\\eager\\execute.py:54\u001b[0m, in \u001b[0;36mquick_execute\u001b[1;34m(op_name, num_outputs, inputs, attrs, ctx, name)\u001b[0m\n\u001b[0;32m     52\u001b[0m \u001b[38;5;28;01mtry\u001b[39;00m:\n\u001b[0;32m     53\u001b[0m   ctx\u001b[38;5;241m.\u001b[39mensure_initialized()\n\u001b[1;32m---> 54\u001b[0m   tensors \u001b[38;5;241m=\u001b[39m \u001b[43mpywrap_tfe\u001b[49m\u001b[38;5;241;43m.\u001b[39;49m\u001b[43mTFE_Py_Execute\u001b[49m\u001b[43m(\u001b[49m\u001b[43mctx\u001b[49m\u001b[38;5;241;43m.\u001b[39;49m\u001b[43m_handle\u001b[49m\u001b[43m,\u001b[49m\u001b[43m \u001b[49m\u001b[43mdevice_name\u001b[49m\u001b[43m,\u001b[49m\u001b[43m \u001b[49m\u001b[43mop_name\u001b[49m\u001b[43m,\u001b[49m\n\u001b[0;32m     55\u001b[0m \u001b[43m                                      \u001b[49m\u001b[43minputs\u001b[49m\u001b[43m,\u001b[49m\u001b[43m \u001b[49m\u001b[43mattrs\u001b[49m\u001b[43m,\u001b[49m\u001b[43m \u001b[49m\u001b[43mnum_outputs\u001b[49m\u001b[43m)\u001b[49m\n\u001b[0;32m     56\u001b[0m \u001b[38;5;28;01mexcept\u001b[39;00m core\u001b[38;5;241m.\u001b[39m_NotOkStatusException \u001b[38;5;28;01mas\u001b[39;00m e:\n\u001b[0;32m     57\u001b[0m   \u001b[38;5;28;01mif\u001b[39;00m name \u001b[38;5;129;01mis\u001b[39;00m \u001b[38;5;129;01mnot\u001b[39;00m \u001b[38;5;28;01mNone\u001b[39;00m:\n",
      "\u001b[1;31mKeyboardInterrupt\u001b[0m: "
     ]
    }
   ],
   "source": [
    "#Fit the model\n",
    "history=model.fit(X_train_prep, \n",
    "                  y_train,\n",
    "                  batch_size=2, \n",
    "                  epochs=500,\n",
    "                  validation_data=(X_test_prep,y_test),\n",
    "                  callbacks=callbacks)"
   ]
  },
  {
   "cell_type": "code",
   "execution_count": 1,
   "id": "8803e4f3-6662-4353-aeaf-0164a19324e9",
   "metadata": {},
   "outputs": [
    {
     "name": "stdout",
     "output_type": "stream",
     "text": [
      "   epoch  iou_score      loss  val_iou_score  val_loss\n",
      "0      0   0.516524  0.874117       0.543803  0.858128\n",
      "1      1   0.563098  0.845399       0.563565  0.840985\n",
      "2      2   0.576101  0.828242       0.581308  0.820235\n",
      "3      3   0.583522  0.814971       0.585522  0.808931\n",
      "4      4   0.592286  0.803876       0.591929  0.798005\n"
     ]
    },
    {
     "data": {
      "image/png": "[encoded data removed]",
      "text/plain": [
       "<Figure size 640x480 with 1 Axes>"
      ]
     },
     "metadata": {},
     "output_type": "display_data"
    },
    {
     "data": {
      "image/png": "[encoded data removed]",
      "text/plain": [
       "<Figure size 640x480 with 1 Axes>"
      ]
     },
     "metadata": {},
     "output_type": "display_data"
    }
   ],
   "source": [
    "import pandas as pd\n",
    "from matplotlib import pyplot as plt\n",
    "\n",
    "# 读取 CSV 文件\n",
    "history_df = pd.read_csv('./history_au.csv')\n",
    "\n",
    "# 查看数据结构\n",
    "print(history_df.head())\n",
    "\n",
    "# 绘制训练和验证损失\n",
    "loss = history_df['loss']\n",
    "val_loss = history_df['val_loss']\n",
    "epochs = range(1, len(loss) + 1)\n",
    "plt.plot(epochs, loss, 'y', label='Training loss')\n",
    "plt.plot(epochs, val_loss, 'r', label='Validation loss')\n",
    "plt.title('Training and validation loss')\n",
    "plt.xlabel('Epochs')\n",
    "plt.ylabel('Loss')\n",
    "plt.legend()\n",
    "plt.savefig('./loss_plot.png', bbox_inches='tight')  # Save the plot as PNG image\n",
    "plt.show()\n",
    "\n",
    "# 绘制训练和验证 IOU\n",
    "iou = history_df['iou_score']\n",
    "val_iou = history_df['val_iou_score']\n",
    "plt.plot(epochs, iou, 'y', label='Training IOU')\n",
    "plt.plot(epochs, val_iou, 'r', label='Validation IOU')\n",
    "plt.title('Training and validation IOU')\n",
    "plt.xlabel('Epochs')\n",
    "plt.ylabel('IOU')\n",
    "plt.legend()\n",
    "plt.savefig('./iou_plot.png', bbox_inches='tight')  # Save the plot as PNG image\n",
    "plt.show()\n"
   ]
  },
  {
   "cell_type": "code",
   "execution_count": 2,
   "id": "efd64a4a-8cff-4073-9489-6db241e25529",
   "metadata": {},
   "outputs": [
    {
     "name": "stdout",
     "output_type": "stream",
     "text": [
      "True\n",
      "2.10.0\n",
      "2.10.0\n",
      "Found GPU at: /device:GPU:0\n",
      "WARNING:tensorflow:From C:\\Users\\Ding-Yang\\AppData\\Local\\Temp\\ipykernel_39848\\68065243.py:18: is_gpu_available (from tensorflow.python.framework.test_util) is deprecated and will be removed in a future version.\n",
      "Instructions for updating:\n",
      "Use `tf.config.list_physical_devices('GPU')` instead.\n",
      "True\n",
      "Segmentation Models: using `keras` framework.\n"
     ]
    }
   ],
   "source": [
    "import tensorflow as tf\n",
    "import keras\n",
    "print(tf.test.is_built_with_cuda())\n",
    "print(tf.__version__)\n",
    "print(keras.__version__)\n",
    "\n",
    "# Make sure the GPU is available.\n",
    "import tensorflow as tf\n",
    "\n",
    "device_name = tf.test.gpu_device_name()\n",
    "\n",
    "if device_name == '':\n",
    "    print('GPU device not found. TensorFlow is using CPU.')\n",
    "else:\n",
    "    print('Found GPU at: {}'.format(device_name))\n",
    "\n",
    "\n",
    "print(tf.test.is_gpu_available())\n",
    "tf.config.list_physical_devices('GPU')\n",
    "\n",
    "import segmentation_models_3D as sm\n",
    "from skimage import io\n",
    "from patchify import patchify, unpatchify\n",
    "import numpy as np\n",
    "from matplotlib import pyplot as plt\n",
    "from keras import backend as K\n",
    "from tensorflow.keras.utils import to_categorical\n",
    "from sklearn.model_selection import train_test_split\n",
    "\n",
    "import file_utilities as fu"
   ]
  },
  {
   "cell_type": "code",
   "execution_count": 3,
   "id": "520ff0ef-80a7-4f8e-ba07-3d5c8e78e3d4",
   "metadata": {},
   "outputs": [
    {
     "data": {
      "text/plain": [
       "(1024, 32, 64, 64, 1)"
      ]
     },
     "execution_count": 3,
     "metadata": {},
     "output_type": "execute_result"
    }
   ],
   "source": [
    "import numpy as np\n",
    "train_img = np.load('./train_img.npy')\n",
    "train_mask = np.load('./train_mask.npy')\n",
    "\n",
    "train_mask.shape"
   ]
  },
  {
   "cell_type": "code",
   "execution_count": 4,
   "id": "f119571c-c5a3-4efc-b237-7e46660610eb",
   "metadata": {},
   "outputs": [],
   "source": [
    "n_classes=3# background, border, axons\n",
    "from keras.utils import to_categorical\n",
    "\n",
    "train_mask_cat = to_categorical(train_mask, num_classes=n_classes)\n",
    "\n",
    "\n",
    "from sklearn.model_selection import train_test_split\n",
    "X_train, X_test, y_train, y_test = train_test_split(train_img, train_mask_cat, test_size = 0.20, random_state = 0)"
   ]
  },
  {
   "cell_type": "code",
   "execution_count": 4,
   "id": "ea0eae5e-dffc-4af9-b8d2-aebeb5946dbb",
   "metadata": {},
   "outputs": [],
   "source": [
    "X_train = np.load('./X_train.npy')\n",
    "X_test = np.load('./X_test.npy')\n",
    "y_train = np.load('./y_train.npy')\n",
    "y_test = np.load('./y_test.npy')\n"
   ]
  },
  {
   "cell_type": "code",
   "execution_count": 5,
   "id": "af05ab5b-23ec-4148-a6ab-bcde97f1ac4b",
   "metadata": {},
   "outputs": [],
   "source": [
    "#Define parameters for our model.\n",
    "BACKBONE = 'vgg16'  #Try vgg16, efficientnetb7, inceptionv3, resnet50\n",
    "LR = 0.0001\n",
    "optim = tf.keras.optimizers.Adam(LR)\n",
    "\n",
    "dice_loss = sm.losses.DiceLoss(class_weights=np.array([0.333, 0.333, 0.333])) #优点：对于不平衡的数据集和像素级别的分割任务效果较好，能够更好地处理类别间的不平衡。缺点：对噪声敏感，容易受到边缘效应的影响。\n",
    "focal_loss = sm.losses.CategoricalFocalLoss()#优点：能够解决类别不平衡问题，通过调节alpha和gamma参数可以进一步调整损失函数的重点。缺点：需要调节额外的参数，可能需要进行一定的调参工作。\n",
    "jaccard_loss = sm.losses.JaccardLoss() #优点：度量了预测和标签之间的相似度，对于不平衡的数据集效果较好。缺点：对于像素级别的分割任务可能存在不连续性，需要额外处理。\n",
    "\n",
    "total_loss = dice_loss + (1 * focal_loss) + jaccard_loss\n",
    "metrics = [sm.metrics.IOUScore(threshold=0.5)]\n",
    "\n",
    "\n",
    "from tensorflow.keras.callbacks import ModelCheckpoint, ReduceLROnPlateau, CSVLogger, EarlyStopping\n",
    "early_stopping = EarlyStopping(monitor='val_loss', patience=20, restore_best_weights = False)\n",
    "model_checkpoint = ModelCheckpoint('./best_model.h5', monitor='val_loss', save_best_only=True)\n",
    "\n",
    "callbacks=[early_stopping, model_checkpoint,\n",
    "                  CSVLogger('./history_au.csv'),\n",
    "            ReduceLROnPlateau(monitor='val_loss', factor=0.1, patience=20)\n",
    "          ]"
   ]
  },
  {
   "cell_type": "code",
   "execution_count": 6,
   "id": "29322d4d-9d2f-4f35-845f-c10b79119437",
   "metadata": {},
   "outputs": [],
   "source": [
    "#Preprocess input data - otherwise you end up with garbage resutls \n",
    "# and potentially model that does not converge.\n",
    "\n",
    "preprocess_input = sm.get_preprocessing(BACKBONE)\n",
    "\n",
    "\n",
    "X_train_prep = preprocess_input(X_train)\n",
    "X_test_prep = preprocess_input(X_test)\n"
   ]
  },
  {
   "cell_type": "code",
   "execution_count": 7,
   "id": "702b47c8-1d76-4e82-aed7-3646ce55dcae",
   "metadata": {},
   "outputs": [],
   "source": [
    "#Load the pretrained model for testing and predictions. \n",
    "from keras.models import load_model\n",
    "def dice_loss_plus_1focal_loss_plus_jaccard_loss(y_true, y_pred):\n",
    "    total_loss\n",
    "    pass\n",
    "def iou_score(y_true, y_pred):\n",
    "    metrics    \n",
    "    pass\n",
    "model = load_model('./best_model.h5',custom_objects={'dice_loss_plus_1focal_loss_plus_jaccard_loss': dice_loss_plus_1focal_loss_plus_jaccard_loss, 'iou_score': iou_score})\n",
    "model.compile(optimizer=optim, loss=total_loss, metrics=metrics)\n",
    "\n",
    "#If you load a different model do not forget to preprocess accordingly. "
   ]
  },
  {
   "cell_type": "code",
   "execution_count": 5,
   "id": "bb3fb1d7-6f15-4ec5-8d8b-77149e8d812b",
   "metadata": {},
   "outputs": [],
   "source": [
    "from keras.models import load_model\n",
    "#Load the pretrained model for testing and predictions. \n",
    "model = load_model('./best_model.h5',compile = False)"
   ]
  },
  {
   "cell_type": "code",
   "execution_count": 7,
   "id": "89079d97-ad6d-4dde-88bb-aaff7a5e6c0a",
   "metadata": {},
   "outputs": [
    {
     "name": "stdout",
     "output_type": "stream",
     "text": [
      "7/7 [==============================] - 18s 2s/step\n",
      "[[0.98593642 0.00687866 0.00718492]\n",
      " [0.06428356 0.8507551  0.08496134]\n",
      " [0.22136796 0.12807615 0.65055588]]\n"
     ]
    },
    {
     "data": {
      "text/plain": [
       "<Figure size 800x600 with 0 Axes>"
      ]
     },
     "metadata": {},
     "output_type": "display_data"
    },
    {
     "data": {
      "image/png": "[encoded data removed]",
      "text/plain": [
       "<Figure size 640x480 with 2 Axes>"
      ]
     },
     "metadata": {},
     "output_type": "display_data"
    },
    {
     "name": "stdout",
     "output_type": "stream",
     "text": [
      "              precision    recall  f1-score   support\n",
      "\n",
      "           0       0.99      0.99      0.99  25716502\n",
      "           1       0.71      0.85      0.78    692821\n",
      "           2       0.55      0.65      0.60    460437\n",
      "\n",
      "    accuracy                           0.98  26869760\n",
      "   macro avg       0.75      0.83      0.79  26869760\n",
      "weighted avg       0.98      0.98      0.98  26869760\n",
      "\n",
      "IoU: 0.67690855\n"
     ]
    }
   ],
   "source": [
    "from sklearn.metrics import confusion_matrix, classification_report, ConfusionMatrixDisplay\n",
    "from keras.metrics import MeanIoU\n",
    "import numpy as np\n",
    "\n",
    "\n",
    "# 假設 predictions 是模型的預測結果\n",
    "predictions = model.predict(X_test_prep)\n",
    "predictions = np.argmax(predictions, axis=-1)  # 從概率到類別索引\n",
    "\n",
    "# 真實標籤需要與預測相同的處理\n",
    "true_labels = np.argmax(y_test, axis=-1)\n",
    "plt.figure(figsize=(8, 6))\n",
    "# 混淆矩陣\n",
    "class_labels = ['background', 'axons', 'border']\n",
    "cm = confusion_matrix(true_labels.flatten(), predictions.flatten(), normalize=\"true\")\n",
    "print(cm)\n",
    "ConfusionMatrixDisplay(cm, display_labels = class_labels).plot(\n",
    "    include_values=True, cmap=plt.cm.Blues, xticks_rotation=\"vertical\"\n",
    ")\n",
    "plt.title(\"Confusion Matrix\")\n",
    "plt.savefig('./confusion_matrix.png', bbox_inches='tight')  # Save the plot as PNG image\n",
    "plt.tight_layout()\n",
    "plt.show()\n",
    "\n",
    "# 分類報告\n",
    "print(classification_report(true_labels.flatten(), predictions.flatten()))\n",
    "\n",
    "# 計算IoU\n",
    "num_classes = len(np.unique(true_labels))  # 假設的類別數量\n",
    "iou = MeanIoU(num_classes=num_classes)\n",
    "iou.update_state(true_labels, predictions)\n",
    "print(\"IoU:\", iou.result().numpy())\n"
   ]
  },
  {
   "cell_type": "code",
   "execution_count": 8,
   "id": "06e21354-187b-433f-be8c-04a9dedda799",
   "metadata": {},
   "outputs": [
    {
     "name": "stdout",
     "output_type": "stream",
     "text": [
      "7/7 [==============================] - 14s 2s/step\n"
     ]
    }
   ],
   "source": [
    "y_pred=model.predict(X_test)\n",
    "y_pred_argmax=np.argmax(y_pred, axis=4)\n",
    "y_test_argmax = np.argmax(y_test, axis=4)\n"
   ]
  },
  {
   "cell_type": "code",
   "execution_count": 9,
   "id": "cd2a287f-342d-4070-9b24-8f81031c3489",
   "metadata": {},
   "outputs": [
    {
     "name": "stdout",
     "output_type": "stream",
     "text": [
      "(205, 32, 64, 64)\n",
      "(205, 32, 64, 64)\n",
      "[0 1 2]\n"
     ]
    }
   ],
   "source": [
    "print(y_pred_argmax.shape)\n",
    "print(y_test_argmax.shape)\n",
    "print(np.unique(y_pred_argmax))"
   ]
  },
  {
   "cell_type": "code",
   "execution_count": 11,
   "id": "e34f67f9-bfea-4fcb-8abc-8cdfb9341c48",
   "metadata": {},
   "outputs": [
    {
     "name": "stdout",
     "output_type": "stream",
     "text": [
      "1/1 [==============================] - 0s 490ms/step\n",
      "(32, 64, 64)\n"
     ]
    }
   ],
   "source": [
    "#Test some random images\n",
    "import random\n",
    "test_img_number = random.randint(0, len(X_test))\n",
    "test_img = X_test[test_img_number]\n",
    "ground_truth=y_test[test_img_number]\n",
    "\n",
    "test_img_input=np.expand_dims(test_img, 0)\n",
    "#test_img_input1 = preprocess_input(test_img_input)\n",
    "\n",
    "test_pred1 = model.predict(test_img_input)\n",
    "test_prediction1 = np.argmax(test_pred1, axis=4)[0,:,:,:]\n",
    "print(test_prediction1.shape)\n",
    "\n",
    "\n"
   ]
  },
  {
   "cell_type": "code",
   "execution_count": 12,
   "id": "0ae5d559-2dbc-4b49-b254-749a05c7492f",
   "metadata": {},
   "outputs": [
    {
     "name": "stdout",
     "output_type": "stream",
     "text": [
      "(32, 64, 64, 3)\n"
     ]
    }
   ],
   "source": [
    "ground_truth_argmax = np.argmax(ground_truth, axis=3)\n",
    "print(test_img.shape)"
   ]
  },
  {
   "cell_type": "code",
   "execution_count": 19,
   "id": "d39b9fd0-7db7-4396-8a18-9beddfbf6d02",
   "metadata": {},
   "outputs": [
    {
     "name": "stdout",
     "output_type": "stream",
     "text": [
      "28\n"
     ]
    },
    {
     "data": {
      "image/png": "[encoded data removed]",
      "text/plain": [
       "<Figure size 1200x800 with 3 Axes>"
      ]
     },
     "metadata": {},
     "output_type": "display_data"
    },
    {
     "data": {
      "text/plain": [
       "28"
      ]
     },
     "execution_count": 19,
     "metadata": {},
     "output_type": "execute_result"
    }
   ],
   "source": [
    "#Plot individual slices from test predictions for verification\n",
    "slice = random.randint(0, test_img.shape[2])\n",
    "print(slice)\n",
    "plt.figure(figsize=(12, 8))\n",
    "plt.subplot(231)\n",
    "plt.title('Image')\n",
    "plt.imshow(test_img[:,:,slice,0], cmap='gray')\n",
    "plt.subplot(232)\n",
    "plt.title('GT Label')\n",
    "plt.imshow(ground_truth_argmax[:,:,slice])\n",
    "plt.subplot(233)\n",
    "plt.title('Prediction label')\n",
    "plt.imshow(test_prediction1[:,:,slice])\n",
    "plt.show()\n",
    "slice"
   ]
  },
  {
   "cell_type": "code",
   "execution_count": null,
   "id": "b7e14689-94b7-419a-b10e-559a7876cc4f",
   "metadata": {},
   "outputs": [],
   "source": []
  }
 ],
 "metadata": {
  "kernelspec": {
   "display_name": "gpu_390",
   "language": "python",
   "name": "gpu_390"
  },
  "language_info": {
   "codemirror_mode": {
    "name": "ipython",
    "version": 3
   },
   "file_extension": ".py",
   "mimetype": "text/x-python",
   "name": "python",
   "nbconvert_exporter": "python",
   "pygments_lexer": "ipython3",
   "version": "3.9.19"
  }
 },
 "nbformat": 4,
 "nbformat_minor": 5
}
