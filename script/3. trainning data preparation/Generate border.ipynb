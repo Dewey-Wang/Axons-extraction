{
 "cells": [
  {
   "cell_type": "code",
   "execution_count": 2,
   "id": "493304d0-7555-4728-b781-64879978bb02",
   "metadata": {},
   "outputs": [
    {
     "name": "stdout",
     "output_type": "stream",
     "text": [
      "Selected File: C:/Users/Ding-Yang/Desktop/internship/Try don't merge/better images/Unet/Preprocess image/20220815 necroptosis Paula_PS-A2-60 series 53/GT.tif\n"
     ]
    },
    {
     "data": {
      "text/plain": [
       "<Labels layer 'The label Result' at 0x28c7b887d10>"
      ]
     },
     "execution_count": 2,
     "metadata": {},
     "output_type": "execute_result"
    }
   ],
   "source": [
    "import numpy as np\n",
    "import kimimaro\n",
    "from skimage import io\n",
    "import file_utilities as fu\n",
    "import napari\n",
    "\n",
    "# Get the file path\n",
    "file_path = fu.choose_file()\n",
    "\n",
    "# Create an instance of LifImageProcessor\n",
    "# 加载 TIF 格式的图像文件\n",
    "image = io.imread(file_path)\n",
    "\n",
    "viewer = napari.Viewer()\n",
    "\n",
    "viewer.add_labels(image, name='The label Result', blending='additive')\n"
   ]
  },
  {
   "cell_type": "markdown",
   "id": "e3534c05-6af6-4979-a72f-40c5d725f843",
   "metadata": {
    "jp-MarkdownHeadingCollapsed": true,
    "tags": []
   },
   "source": [
    "# Generate the border everywhere"
   ]
  },
  {
   "cell_type": "raw",
   "id": "ca5c37bc-69c7-4d9a-95f1-d991cd1598b1",
   "metadata": {
    "tags": []
   },
   "source": [
    "correct_segement_bm4d_labels = viewer.layers['original_label'].data\n",
    "correct_segement_bm4d_labels\n",
    "# Specify the filename for the multi-page TIFF\n",
    "filename = 'masked.tif'\n",
    "import numpy as np\n",
    "import tifffile\n",
    "\n",
    "# Generate some random 3D data\n",
    "\n",
    "# Save the 3D data as a TIFF file\n",
    "tifffile.imwrite(filename, eroded_volume)"
   ]
  },
  {
   "cell_type": "raw",
   "id": "ca01e178-c2cd-4fd4-bf2b-d7c4d0e7ccbf",
   "metadata": {},
   "source": [
    "## Version 1 - they may seperate in some week connection\n",
    "\n",
    "import numpy as np\n",
    "import scipy.ndimage as ndi\n",
    "\n",
    "import numpy as np\n",
    "\n",
    "def make_border_yz_overlap_label(input_image):\n",
    "    image_flip = np.swapaxes(input_image, 0, 2)\n",
    "    border_mask = image_flip > 0\n",
    "    x, y, z = image_flip.shape\n",
    "    for a in range(0, x):\n",
    "        for b in range(0, y-1, 1):\n",
    "            for c in range(0, z-1, 1):\n",
    "                image_slice = image_flip[a]\n",
    "                piece = np.copy(image_slice[b:b+2, c:c+2])\n",
    "                def find_unique_intensities(image):\n",
    "                    # 获取图像中除了零以外的唯一强度值\n",
    "                    unique_values = np.unique(image)\n",
    "                    \n",
    "                    # 移除零以外的唯一值\n",
    "                    unique_values = unique_values[unique_values != 0]\n",
    "                     \n",
    "                    # 检查除了零以外的唯一值数量是否大于 1\n",
    "                    if len(unique_values) > 1:\n",
    "                        # 返回除了零以外的唯一值元组\n",
    "                        return True # 转换为元组\n",
    "                \n",
    "                unique_intensities = find_unique_intensities(piece)\n",
    "                \n",
    "                # 将唯一值元组添加到集合中\n",
    "                if unique_intensities:\n",
    "                    image_flip[a, b:b+2, c:c+2] = 0\n",
    "\n",
    "    # 将集合转换为列表形式，并返回结果\n",
    "    result = image_flip > 0\n",
    "    border_mask = border_mask ^ result\n",
    "    image_flip = np.swapaxes(image_flip, 2, 0)\n",
    "    border_mask = np.swapaxes(border_mask, 2, 0)\n",
    "\n",
    "    return border_mask #image_flip\n",
    "\n",
    "def generate_border_3d(image, border_size=1, n_erosions=1):\n",
    "    # Initialize an empty array to store the eroded slices\n",
    "    eroded_slices = []\n",
    "\n",
    "    # Iterate over each slice in the 3D image\n",
    "    for slice_idx in range(image.shape[0]):\n",
    "        # Perform erosion on the current slice\n",
    "        eroded_slice = image[slice_idx] * (np.abs(ndi.laplace(image[slice_idx])) > 0)\n",
    "\n",
    "        # Append the eroded slice to the list\n",
    "        eroded_slices.append(eroded_slice)\n",
    "\n",
    "    # Stack the eroded slices along the z-axis to create a 3D array\n",
    "    eroded_volume = np.stack(eroded_slices, axis=0)\n",
    "    eroded_volume = np.where(eroded_volume > 0, 127 , eroded_volume).astype(np.uint8)\n",
    "\n",
    "    # Apply dilation to the eroded volume to create the border\n",
    "    kernel_size = 2 * border_size + 1\n",
    "    dilation_kernel = np.ones((kernel_size, kernel_size, kernel_size))  # Kernel for dilation\n",
    "    border_volume = ndi.binary_dilation(image, structure=dilation_kernel, iterations=1)\n",
    "\n",
    "    # Subtract the eroded volume from the original image to obtain the border\n",
    "    border_volume = np.where(image > 0, 0 , border_volume).astype(np.uint8)\n",
    "    border_volume = border_volume +eroded_volume\n",
    "    ## Replace 255 values to 127 for all pixels. Eventually we will only define border pixels with this value\n",
    "    original_with_border = np.where(border_volume > 0, 127 , border_volume).astype(np.uint8)\n",
    "    border_mask = make_border_yz_overlap_label(image)\n",
    "    #original_with_border[border_mask] = 127\n",
    "    image_255 = np.where(image > 0, 255 , image).astype(np.uint8)\n",
    "    original_with_border = original_with_border + image_255\n",
    "    original_with_border = np.where((original_with_border < 255) & (original_with_border > 0), 127, original_with_border).astype(np.uint8)\n",
    "    # Extract border and labeled regions using boolean masks\n",
    "    border = np.where(original_with_border == 255, 0 , original_with_border).astype(np.uint8)\n",
    "    labeled = np.where(original_with_border == 127, 0 , original_with_border).astype(np.uint8)\n",
    "    \n",
    "    return border, labeled\n",
    "    \n",
    "correct_segement_bm4d_labels = viewer.layers['original_label'].data\n",
    "\n",
    "border, labeled = generate_border_3d(correct_segement_bm4d_labels)\n",
    "viewer.add_labels(border, name='border', blending='additive')\n",
    "viewer.add_labels(labeled, name='labeled', blending='additive')"
   ]
  },
  {
   "cell_type": "code",
   "execution_count": 14,
   "id": "d2950095-b73e-4f57-9bee-905bb751a6f8",
   "metadata": {
    "jupyter": {
     "source_hidden": true
    }
   },
   "outputs": [],
   "source": [
    "import numpy as np\n",
    "import scipy.ndimage as ndi\n",
    "\n",
    "import numpy as np\n",
    "\n",
    "def make_border_between_touched_label(input_image, change_yz = False):\n",
    "    if change_yz:\n",
    "        image_flip = np.swapaxes(input_image, 0, 2)\n",
    "    else:\n",
    "        image_flip = np.copy(input_image)\n",
    "    border_mask = image_flip > 0\n",
    "    x, y, z = image_flip.shape\n",
    "    for a in range(0, x):\n",
    "        for b in range(0, y-1, 1):\n",
    "            for c in range(0, z-1, 1):\n",
    "                image_slice = image_flip[a]\n",
    "                piece = np.copy(image_slice[b:b+2, c:c+2])\n",
    "                def find_unique_intensities(image):\n",
    "                    # 获取图像中除了零以外的唯一强度值\n",
    "                    unique_values = np.unique(image)\n",
    "                    \n",
    "                    # 移除零以外的唯一值\n",
    "                    unique_values = unique_values[unique_values != 0]\n",
    "                     \n",
    "                    # 检查除了零以外的唯一值数量是否大于 1\n",
    "                    if len(unique_values) > 1:\n",
    "                        # 返回除了零以外的唯一值元组\n",
    "                        return True # 转换为元组\n",
    "                \n",
    "                unique_intensities = find_unique_intensities(piece)\n",
    "                \n",
    "                # 将唯一值元组添加到集合中\n",
    "                if unique_intensities:\n",
    "                    image_flip[a, b:b+2, c:c+2] = 0\n",
    "\n",
    "    # 将集合转换为列表形式，并返回结果\n",
    "    result = image_flip > 0\n",
    "    border_mask = border_mask ^ result\n",
    "    if change_yz:\n",
    "        image_flip = np.swapaxes(image_flip, 2, 0)\n",
    "        border_mask = np.swapaxes(border_mask, 2, 0)\n",
    "\n",
    "    return border_mask #image_flip\n",
    "\n",
    "def generate_border_3d(image, border_size=1):\n",
    "    # Initialize an empty array to store the eroded slices\n",
    "    eroded_slices = []\n",
    "\n",
    "    xy_border_mask = make_border_between_touched_label(image)\n",
    "    yz_border_mask = make_border_between_touched_label(image,change_yz = True)\n",
    "    \n",
    "    eroded_volume = np.zeros_like(image, dtype=np.uint8)\n",
    "    eroded_volume[xy_border_mask] = 127\n",
    "    eroded_volume[yz_border_mask] = 127\n",
    "    # Apply dilation to the eroded volume to create the border\n",
    "    kernel_size = 2 * border_size + 1\n",
    "    dilation_kernel = np.ones((kernel_size, kernel_size, kernel_size))  # Kernel for dilation\n",
    "    border_volume = ndi.binary_dilation(image, structure=dilation_kernel, iterations=1)\n",
    "\n",
    "    # Subtract the eroded volume from the original image to obtain the border\n",
    "    border_volume = np.where(image > 0, 0 , border_volume).astype(np.uint8)\n",
    "    border_volume = border_volume +eroded_volume\n",
    "    ## Replace 255 values to 127 for all pixels. Eventually we will only define border pixels with this value\n",
    "    original_with_border = np.where(border_volume > 0, 127 , border_volume).astype(np.uint8)\n",
    "    #original_with_border[border_mask] = 127\n",
    "    image_255 = np.where(image > 0, 255 , image).astype(np.uint8)\n",
    "    original_with_border = original_with_border + image_255\n",
    "    original_with_border = np.where((original_with_border < 255) & (original_with_border > 0), 127, original_with_border).astype(np.uint8)\n",
    "    # Extract border and labeled regions using boolean masks\n",
    "    border = np.where(original_with_border == 255, 0 , original_with_border).astype(np.uint8)\n",
    "    border = np.where(border != 0, 2 , border).astype(np.uint8)\n",
    "\n",
    "    labeled = np.where(original_with_border == 127, 0 , original_with_border).astype(np.uint8)\n",
    "    labeled = np.where(labeled != 0, 1 , labeled).astype(np.uint8)\n",
    "    label_wih_border = np.zeros_like(image, dtype=np.uint8)\n",
    "    label_wih_border = labeled + border\n",
    "    return border, labeled, label_wih_border\n",
    "    "
   ]
  },
  {
   "cell_type": "code",
   "execution_count": 29,
   "id": "0d785a28-00d1-4086-8263-397ae697ff02",
   "metadata": {},
   "outputs": [
    {
     "data": {
      "text/plain": [
       "(17, 1024, 1024)"
      ]
     },
     "execution_count": 29,
     "metadata": {},
     "output_type": "execute_result"
    }
   ],
   "source": [
    "label_wih_border.shape"
   ]
  },
  {
   "cell_type": "code",
   "execution_count": 30,
   "id": "01d5593d-9b8d-4f8b-8f49-8feef60bda95",
   "metadata": {},
   "outputs": [
    {
     "data": {
      "text/plain": [
       "<Labels layer 'label_wih_border' at 0x28d90cda290>"
      ]
     },
     "execution_count": 30,
     "metadata": {},
     "output_type": "execute_result"
    }
   ],
   "source": [
    "#correct_segement_bm4d_labels = viewer.layers['verion_3'].data\n",
    "\n",
    "border, labeled, label_wih_border = generate_border_3d(image)\n",
    "viewer.add_labels(border, name='border', blending='additive')\n",
    "viewer.add_labels(labeled, name='labeled', blending='additive')\n",
    "viewer.add_labels(label_wih_border, name='label_wih_border', blending='additive')"
   ]
  },
  {
   "cell_type": "code",
   "execution_count": 12,
   "id": "121eb41d-b3e2-40dc-a91a-11d12435b355",
   "metadata": {},
   "outputs": [],
   "source": [
    "import numpy as np\n",
    "import tifffile\n",
    "import os\n",
    "\n",
    "def save_in_same_directory(original_file_path, file_name):\n",
    "    directory = os.path.dirname(original_file_path)\n",
    "    save_path = os.path.join(directory, file_name)\n",
    "    return save_path\n",
    "# Generate some random 3D data\n",
    "\n",
    "# Save the 3D data as a TIFF file\n",
    "tifffile.imwrite(save_in_same_directory(file_path, 'label_wih_border_mask.tif'), label_wih_border)\n",
    "tifffile.imwrite(save_in_same_directory(file_path,'border_mask.tif'), border)\n",
    "tifffile.imwrite(save_in_same_directory(file_path,'labeled_mask.tif'), labeled)"
   ]
  },
  {
   "cell_type": "code",
   "execution_count": 11,
   "id": "ee806e83-f163-48a4-8e05-b01c51ec9fdd",
   "metadata": {},
   "outputs": [],
   "source": [
    "label_wih_border = viewer.layers['label_wih_border'].data\n",
    "\n",
    "tifffile.imwrite(\"C:/Users/Ding-Yang/Desktop/internship/Try don't merge/better images/Unet/GT/section 2 740 TexRed Dextrans 3K dil 2 30 min CertnL 11.05.23/border.tif\", border)\n"
   ]
  },
  {
   "cell_type": "code",
   "execution_count": 6,
   "id": "8681c4be-c136-4da3-b5a8-1239f494de4c",
   "metadata": {},
   "outputs": [
    {
     "data": {
      "text/plain": [
       "\"C:/Users/Ding-Yang/Desktop/internship/Try don't merge/better images/Unet/GT/section 2 740 TexRed Dextrans 3K dil 2 30 min CertnL 11.05.23\\\\label_wih_border_mask\""
      ]
     },
     "execution_count": 6,
     "metadata": {},
     "output_type": "execute_result"
    }
   ],
   "source": [
    "save_in_same_directory(file_path, 'label_wih_border_mask')"
   ]
  },
  {
   "cell_type": "raw",
   "id": "3024f9bd-2b1d-4ff6-8f32-5adfee51b2fb",
   "metadata": {
    "tags": []
   },
   "source": [
    "# check touch\n",
    "import numpy as np\n",
    "\n",
    "def check_yz_overlap_label(input_image):\n",
    "    image_flip = np.swapaxes(input_image, 0, 2)\n",
    "    unique_values_set = set()  # 使用集合存储唯一值的元组\n",
    "    x, y, z = image_flip.shape\n",
    "    for a in range(0, x):\n",
    "        for b in range(0, y-1, 1):\n",
    "            for c in range(0, z-1, 1):\n",
    "                image_slice = image_flip[a]\n",
    "                piece = np.copy(image_slice[b:b+2, c:c+2])\n",
    "                def find_unique_intensities(image):\n",
    "                    # 获取图像中除了零以外的唯一强度值\n",
    "                    unique_values = np.unique(image)\n",
    "                    \n",
    "                    # 移除零以外的唯一值\n",
    "                    unique_values = unique_values[unique_values != 0]\n",
    "                     \n",
    "                    # 检查除了零以外的唯一值数量是否大于 1\n",
    "                    if len(unique_values) > 1:\n",
    "                        # 返回除了零以外的唯一值元组\n",
    "                        return tuple(unique_values) + (a,)  # 加上切片的索引值\n",
    "                \n",
    "                unique_intensities = find_unique_intensities(piece)\n",
    "                \n",
    "                # 将唯一值元组添加到集合中\n",
    "                if unique_intensities:\n",
    "                    unique_values_set.add(unique_intensities)\n",
    "    \n",
    "    # 将集合转换为列表形式，并返回结果\n",
    "    unique_values_list = list(unique_values_set)\n",
    "    return unique_values_list\n",
    "\n",
    "# 调用函数并打印结果\n",
    "result = check_yz_overlap_label(preserved_image)\n",
    "print(\"overlap labels：\", result)\n"
   ]
  },
  {
   "cell_type": "markdown",
   "id": "d63f824f-5886-498a-b046-2a0a5c5dfaac",
   "metadata": {
    "jp-MarkdownHeadingCollapsed": true,
    "tags": []
   },
   "source": [
    "# Generate the border between two connecting labels"
   ]
  },
  {
   "cell_type": "raw",
   "id": "9b6f9a26-85da-415b-b031-b54ab1b7b74c",
   "metadata": {},
   "source": [
    "import numpy as np\n",
    "import scipy.ndimage as ndi\n",
    "\n",
    "import numpy as np\n",
    "\n",
    "def make_border_between_touched_label(input_image, change_yz = False):\n",
    "    if change_yz:\n",
    "        image_flip = np.swapaxes(input_image, 0, 2)\n",
    "    else:\n",
    "        image_flip = np.copy(input_image)\n",
    "    border_mask = image_flip > 0\n",
    "    x, y, z = image_flip.shape\n",
    "    for a in range(0, x):\n",
    "        for b in range(0, y-1, 1):\n",
    "            for c in range(0, z-1, 1):\n",
    "                image_slice = image_flip[a]\n",
    "                piece = np.copy(image_slice[b:b+2, c:c+2])\n",
    "                def find_unique_intensities(image):\n",
    "                    # 获取图像中除了零以外的唯一强度值\n",
    "                    unique_values = np.unique(image)\n",
    "                    \n",
    "                    # 移除零以外的唯一值\n",
    "                    unique_values = unique_values[unique_values != 0]\n",
    "                     \n",
    "                    # 检查除了零以外的唯一值数量是否大于 1\n",
    "                    if len(unique_values) > 1:\n",
    "                        # 返回除了零以外的唯一值元组\n",
    "                        return True # 转换为元组\n",
    "                \n",
    "                unique_intensities = find_unique_intensities(piece)\n",
    "                \n",
    "                # 将唯一值元组添加到集合中\n",
    "                if unique_intensities:\n",
    "                    image_flip[a, b:b+2, c:c+2] = 0\n",
    "\n",
    "    # 将集合转换为列表形式，并返回结果\n",
    "    result = image_flip > 0\n",
    "    border_mask = border_mask ^ result\n",
    "    if change_yz:\n",
    "        image_flip = np.swapaxes(image_flip, 2, 0)\n",
    "        border_mask = np.swapaxes(border_mask, 2, 0)\n",
    "\n",
    "    return border_mask #image_flip\n",
    "\n",
    "def generate_border_3d(image, border_size=1):\n",
    "    # Initialize an empty array to store the eroded slices\n",
    "    eroded_slices = []\n",
    "\n",
    "    xy_border_mask = make_border_between_touched_label(image)\n",
    "    yz_border_mask = make_border_between_touched_label(image,change_yz = True)\n",
    "    \n",
    "    eroded_volume = np.zeros_like(image, dtype=np.uint8)\n",
    "    eroded_volume[xy_border_mask] = 127\n",
    "    eroded_volume[yz_border_mask] = 127\n",
    "    \n",
    "    #original_with_border[border_mask] = 127\n",
    "    image_255 = np.where(image > 0, 255 , image).astype(np.uint8)\n",
    "    original_with_border = eroded_volume + image_255\n",
    "    original_with_border = np.where((original_with_border < 255) & (original_with_border > 0), 127, original_with_border).astype(np.uint8)\n",
    "    # Extract border and labeled regions using boolean masks\n",
    "    border = np.where(original_with_border == 255, 0 , original_with_border).astype(np.uint8)\n",
    "    border = np.where(border != 0, 2 , border).astype(np.uint8)\n",
    "\n",
    "    labeled = np.where(original_with_border == 127, 0 , original_with_border).astype(np.uint8)\n",
    "    labeled = np.where(labeled != 0, 1 , labeled).astype(np.uint8)\n",
    "    label_wih_border = np.zeros_like(image, dtype=np.uint8)\n",
    "    label_wih_border = labeled + border\n",
    "    return border, labeled, label_wih_border\n",
    "    "
   ]
  },
  {
   "cell_type": "code",
   "execution_count": 3,
   "id": "4fda19f0-1bb5-43eb-a030-5a81bf10f70e",
   "metadata": {},
   "outputs": [
    {
     "data": {
      "text/plain": [
       "<Labels layer 'label_wih_border' at 0x1b39911bb10>"
      ]
     },
     "execution_count": 3,
     "metadata": {},
     "output_type": "execute_result"
    }
   ],
   "source": [
    "#correct_segement_bm4d_labels = viewer.layers['verion_3'].data\n",
    "\n",
    "border, labeled, label_wih_border = generate_border_3d(image)\n",
    "viewer.add_labels(border, name='border', blending='additive')\n",
    "viewer.add_labels(labeled, name='labeled', blending='additive')\n",
    "viewer.add_labels(label_wih_border, name='label_wih_border', blending='additive')"
   ]
  },
  {
   "cell_type": "code",
   "execution_count": 4,
   "id": "e6b59550-b4dc-4123-979a-3b29a01bcaca",
   "metadata": {},
   "outputs": [
    {
     "name": "stderr",
     "output_type": "stream",
     "text": [
      "C:\\Users\\Ding-Yang\\anaconda3\\envs\\intern\\Lib\\site-packages\\napari\\components\\viewer_model.py:1181: RuntimeWarning: Can't find napari-aicsimageio plugin associated with C:\\Users\\Ding-Yang\\Desktop\\internship\\Try don't merge\\better images\\Unet\\GT\\section 2 740 TexRed Dextrans 3K dil 2 30 min CertnL 11.05.23\\original_label.tif files. This may be because you've switched environments, or have uninstalled the plugin without updating the reader preference. You can remove this preference in the preference dialog, or by editing `settings.plugins.extension2reader`.\n",
      "  warnings.warn(\n",
      "C:\\Users\\Ding-Yang\\anaconda3\\envs\\intern\\Lib\\site-packages\\napari\\components\\viewer_model.py:1181: RuntimeWarning: Can't find napari-aicsimageio plugin associated with C:\\Users\\Ding-Yang\\Desktop\\internship\\Try don't merge\\better images\\Unet\\GT\\section 2 740 TexRed Dextrans 3K dil 2 30 min CertnL 11.05.23\\verion_2.tif files. This may be because you've switched environments, or have uninstalled the plugin without updating the reader preference. You can remove this preference in the preference dialog, or by editing `settings.plugins.extension2reader`.\n",
      "  warnings.warn(\n",
      "C:\\Users\\Ding-Yang\\anaconda3\\envs\\intern\\Lib\\site-packages\\napari\\components\\viewer_model.py:1181: RuntimeWarning: Can't find napari-aicsimageio plugin associated with C:\\Users\\Ding-Yang\\Desktop\\internship\\Try don't merge\\better images\\Unet\\Preprocess image\\740 TexRed Dextrans 3K dil 2 30 min CertnL 11.05.23\\BM4D.tif files. This may be because you've switched environments, or have uninstalled the plugin without updating the reader preference. You can remove this preference in the preference dialog, or by editing `settings.plugins.extension2reader`.\n",
      "  warnings.warn(\n",
      "C:\\Users\\Ding-Yang\\anaconda3\\envs\\intern\\Lib\\site-packages\\napari\\components\\viewer_model.py:1181: RuntimeWarning: Can't find napari-aicsimageio plugin associated with C:\\Users\\Ding-Yang\\Desktop\\internship\\Try don't merge\\better images\\Unet\\GT\\section 2 740 TexRed Dextrans 3K dil 2 30 min CertnL 11.05.23\\label_wih_border_mask_2.tif files. This may be because you've switched environments, or have uninstalled the plugin without updating the reader preference. You can remove this preference in the preference dialog, or by editing `settings.plugins.extension2reader`.\n",
      "  warnings.warn(\n",
      "C:\\Users\\Ding-Yang\\anaconda3\\envs\\intern\\Lib\\site-packages\\napari\\components\\viewer_model.py:1181: RuntimeWarning: Can't find napari-aicsimageio plugin associated with C:\\Users\\Ding-Yang\\Desktop\\internship\\Try don't merge\\better images\\Unet\\GT\\section 2 740 TexRed Dextrans 3K dil 2 30 min CertnL 11.05.23\\label_wih_border_mask_2.tif files. This may be because you've switched environments, or have uninstalled the plugin without updating the reader preference. You can remove this preference in the preference dialog, or by editing `settings.plugins.extension2reader`.\n",
      "  warnings.warn(\n"
     ]
    }
   ],
   "source": [
    "import numpy as np\n",
    "import tifffile\n",
    "import os\n",
    "\n",
    "def save_in_same_directory(original_file_path, file_name):\n",
    "    directory = os.path.dirname(original_file_path)\n",
    "    save_path = os.path.join(directory, file_name)\n",
    "    return save_path\n",
    "# Generate some random 3D data\n",
    "\n",
    "# Save the 3D data as a TIFF file\n",
    "tifffile.imwrite(save_in_same_directory(file_path, 'label_wih_border_mask_2.tif'), label_wih_border)\n",
    "tifffile.imwrite(save_in_same_directory(file_path,'border_mask_2.tif'), border)\n",
    "tifffile.imwrite(save_in_same_directory(file_path,'labeled_mask_2.tif'), labeled)"
   ]
  },
  {
   "cell_type": "markdown",
   "id": "ae4ab69d-d909-472b-9480-476c613ac872",
   "metadata": {},
   "source": [
    "# Generate border base on yz"
   ]
  },
  {
   "cell_type": "code",
   "execution_count": 7,
   "id": "714c003e-6b5f-4e09-831f-cfdce4466b99",
   "metadata": {},
   "outputs": [],
   "source": [
    "import numpy as np\n",
    "import scipy.ndimage as ndi\n",
    "\n",
    "import numpy as np\n",
    "def make_border_between_touched_label(input_image, change_yz = False):\n",
    "    if change_yz:\n",
    "        image_flip = np.swapaxes(input_image, 0, 2)\n",
    "    else:\n",
    "        image_flip = np.copy(input_image)\n",
    "    border_mask = image_flip > 0\n",
    "    x, y, z = image_flip.shape\n",
    "    for a in range(0, x):\n",
    "        for b in range(0, y-1, 1):\n",
    "            for c in range(0, z-1, 1):\n",
    "                image_slice = image_flip[a]\n",
    "                piece = np.copy(image_slice[b:b+2, c:c+2])\n",
    "                def find_unique_intensities(image):\n",
    "                    # 获取图像中除了零以外的唯一强度值\n",
    "                    unique_values = np.unique(image)\n",
    "                    \n",
    "                    # 移除零以外的唯一值\n",
    "                    unique_values = unique_values[unique_values != 0]\n",
    "                     \n",
    "                    # 检查除了零以外的唯一值数量是否大于 1\n",
    "                    if len(unique_values) > 1:\n",
    "                        # 返回除了零以外的唯一值元组\n",
    "                        return True # 转换为元组\n",
    "                \n",
    "                unique_intensities = find_unique_intensities(piece)\n",
    "                \n",
    "                # 将唯一值元组添加到集合中\n",
    "                if unique_intensities:\n",
    "                    image_flip[a, b:b+2, c:c+2] = 0\n",
    "\n",
    "    # 将集合转换为列表形式，并返回结果\n",
    "    result = image_flip > 0\n",
    "    border_mask = border_mask ^ result\n",
    "    if change_yz:\n",
    "        image_flip = np.swapaxes(image_flip, 2, 0)\n",
    "        border_mask = np.swapaxes(border_mask, 2, 0)\n",
    "\n",
    "    return border_mask #image_flip\n",
    "    \n",
    "def generate_border_3d(image, border_size=1):\n",
    "    # Initialize an empty array to store the eroded slices\n",
    "    image_flip = np.swapaxes(image, 0, 2)\n",
    "\n",
    "    eroded_slices = []\n",
    "\n",
    "    # Iterate over each slice in the 3D image\n",
    "    for slice_idx in range(image_flip.shape[0]):\n",
    "        # Perform erosion on the current slice\n",
    "   #     eroded_slice = image_flip[slice_idx] * (np.abs(ndi.laplace(image_flip[slice_idx])) > 0)\n",
    "        eroded_slice = ndi.binary_dilation(image_flip[slice_idx], iterations=1)\n",
    "\n",
    "        # Append the eroded slice to the list\n",
    "        eroded_slices.append(eroded_slice)\n",
    "\n",
    "    # Stack the eroded slices along the z-axis to create a 3D array\n",
    "    eroded_volume = np.stack(eroded_slices, axis=0)\n",
    "    eroded_image = np.swapaxes(eroded_volume, 2, 0)\n",
    "    eroded_image = np.where(eroded_image > 0, 255 , eroded_image).astype(np.uint8)\n",
    "\n",
    "\n",
    "    #original_with_border[border_mask] = 127\n",
    "    image_255 = np.where(image > 0, 255 , image).astype(np.uint8)\n",
    "    border = eroded_image - image_255\n",
    "    yz_border_mask = make_border_between_touched_label(image,change_yz = True)\n",
    "    \n",
    "    border[yz_border_mask] = 255\n",
    "    border = np.where(border != 0, 2 , border).astype(np.uint8)\n",
    "\n",
    "    labeled = np.where((border != 2) & (image_255 > 0), 1, image).astype(np.uint8)\n",
    "\n",
    "    label_wih_border = np.zeros_like(image, dtype=np.uint8)\n",
    "    label_wih_border = labeled + border\n",
    "    return border, labeled, label_wih_border\n",
    "\n",
    "\n",
    "    "
   ]
  },
  {
   "cell_type": "code",
   "execution_count": 8,
   "id": "afbd0547-e11b-43c8-bc46-2f7eccdebe1c",
   "metadata": {},
   "outputs": [
    {
     "data": {
      "text/plain": [
       "<Labels layer 'label_wih_border' at 0x28c12f83550>"
      ]
     },
     "execution_count": 8,
     "metadata": {},
     "output_type": "execute_result"
    }
   ],
   "source": [
    "#correct_segement_bm4d_labels = viewer.layers['verion_3'].data\n",
    "\n",
    "border, labeled, label_wih_border = generate_border_3d(image)\n",
    "viewer.add_labels(border, name='border', blending='additive')\n",
    "viewer.add_labels(labeled, name='labeled', blending='additive')\n",
    "viewer.add_labels(label_wih_border, name='label_wih_border', blending='additive')"
   ]
  },
  {
   "cell_type": "code",
   "execution_count": 9,
   "id": "a3aaae0e-9416-4beb-b6e2-33a7bf23c2d1",
   "metadata": {},
   "outputs": [
    {
     "name": "stdout",
     "output_type": "stream",
     "text": [
      "C:/Users/Ding-Yang/Desktop/internship/Try don't merge/better images/Unet/Preprocess image/20220815 necroptosis Paula_PS-A2-60 series 53\\label_wih_border_mask_3.tif\n",
      "C:/Users/Ding-Yang/Desktop/internship/Try don't merge/better images/Unet/Preprocess image/20220815 necroptosis Paula_PS-A2-60 series 53\\border_mask_3.tif\n",
      "C:/Users/Ding-Yang/Desktop/internship/Try don't merge/better images/Unet/Preprocess image/20220815 necroptosis Paula_PS-A2-60 series 53\\labeled_mask_3.tif\n"
     ]
    },
    {
     "name": "stderr",
     "output_type": "stream",
     "text": [
      "C:\\Users\\Ding-Yang\\anaconda3\\envs\\intern\\Lib\\site-packages\\napari\\components\\viewer_model.py:1181: RuntimeWarning: Can't find napari-aicsimageio plugin associated with C:\\Users\\Ding-Yang\\Desktop\\internship\\Try don't merge\\better images\\Unet\\Preprocess image\\20220815 necroptosis Paula_PS-A2-60 series 53\\label_wih_border_mask_3.tif files. This may be because you've switched environments, or have uninstalled the plugin without updating the reader preference. You can remove this preference in the preference dialog, or by editing `settings.plugins.extension2reader`.\n",
      "  warnings.warn(\n"
     ]
    }
   ],
   "source": [
    "import numpy as np\n",
    "import tifffile\n",
    "import os\n",
    "\n",
    "def save_in_same_directory(original_file_path, file_name):\n",
    "    directory = os.path.dirname(original_file_path)\n",
    "    save_path = os.path.join(directory, file_name)\n",
    "    print(save_path)\n",
    "    return save_path\n",
    "# Generate some random 3D data\n",
    "\n",
    "# Save the 3D data as a TIFF file\n",
    "tifffile.imwrite(save_in_same_directory(file_path, 'label_wih_border_mask_3.tif'), label_wih_border)\n",
    "tifffile.imwrite(save_in_same_directory(file_path,'border_mask_3.tif'), border)\n",
    "tifffile.imwrite(save_in_same_directory(file_path,'labeled_mask_3.tif'), labeled)"
   ]
  }
 ],
 "metadata": {
  "kernelspec": {
   "display_name": "intern",
   "language": "python",
   "name": "intern"
  },
  "language_info": {
   "codemirror_mode": {
    "name": "ipython",
    "version": 3
   },
   "file_extension": ".py",
   "mimetype": "text/x-python",
   "name": "python",
   "nbconvert_exporter": "python",
   "pygments_lexer": "ipython3",
   "version": "3.11.8"
  }
 },
 "nbformat": 4,
 "nbformat_minor": 5
}
