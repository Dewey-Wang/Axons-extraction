{
 "cells": [
  {
   "cell_type": "markdown",
   "id": "a99578a0-3a8c-4e71-9f00-43b4954c475c",
   "metadata": {},
   "source": [
    "# torchio"
   ]
  },
  {
   "cell_type": "code",
   "execution_count": 1,
   "id": "defe0a36-8c37-4afa-9de9-f09d4087bcea",
   "metadata": {},
   "outputs": [
    {
     "name": "stdout",
     "output_type": "stream",
     "text": [
      "Selected File: C:/Users/Ding-Yang/Desktop/internship/Try don't merge/better images/Unet/Preprocess image/20220815 necroptosis Paula_PS-A2-60 series 53/bg_remove.tiff\n",
      "Selected File: C:/Users/Ding-Yang/Desktop/internship/Try don't merge/better images/Unet/Preprocess image/20220815 necroptosis Paula_PS-A2-60 series 53/label_wih_border_mask_3.tif\n"
     ]
    }
   ],
   "source": [
    "import numpy as np\n",
    "from skimage import io\n",
    "import napari\n",
    "import file_utilities as fu\n",
    "\n",
    "# Get the file path\n",
    "image_file_path = fu.choose_file()\n",
    "\n",
    "# Create an instance of LifImageProcessor\n",
    "# 加载 TIF 格式的图像文件\n",
    "image = io.imread(image_file_path)\n",
    "label_file_path = fu.choose_file()\n",
    "\n",
    "label = io.imread(label_file_path)\n"
   ]
  },
  {
   "cell_type": "code",
   "execution_count": 2,
   "id": "559f4142-b3cc-4e8b-bdbf-162817233c4f",
   "metadata": {},
   "outputs": [],
   "source": [
    "import torchio as tio\n",
    "import numpy as np\n",
    "import napari\n",
    "\n",
    "def apply_transforms_and_save(subject, transforms_list, transpose = False):\n",
    "    # Create dictionaries to store images and masks\n",
    "    images_dic = {}\n",
    "    masks_dic = {}\n",
    "\n",
    "    transform_names = [transform.__class__.__name__ for transform in transforms_list]\n",
    "    transform_names = '_'.join(transform_names)\n",
    "\n",
    "    #print(f'Using {transform_name}....')\n",
    "    transform = tio.Compose((transforms_list))\n",
    "\n",
    "    subjects_dataset = tio.SubjectsDataset(subject, transform=transform)\n",
    "    \n",
    "    # Get a transformed instance from the dataset\n",
    "    for i in range(0, len(subjects)):\n",
    "        transformed_image = subjects_dataset[i]\n",
    "        transformed_image_keys = transformed_image.keys()\n",
    "        for key in transformed_image_keys:\n",
    "            image_type = transformed_image[key].type\n",
    "\n",
    "                # Extract transformed data\n",
    "            image_data = transformed_image[key][tio.DATA][i,:,:,:].squeeze().cpu().numpy()\n",
    "\n",
    "            if image_type == tio.INTENSITY:\n",
    "                # Extract transformed image data\n",
    "                image_np = np.swapaxes(image_data, 0, 2)\n",
    "                if transpose:\n",
    "                    image_np = np.transpose(image_np, (0, 2, 1))\n",
    "\n",
    "                images_dic[f'{transform_names} {i} Image'] = image_np\n",
    "\n",
    "                #print(\"This is image\", key)\n",
    "            elif image_type == tio.LABEL:\n",
    "                # Extract transformed mask data\n",
    "                #print(\"This is label\", key)\n",
    "                image_mask_np_swapped = np.swapaxes(image_data, 0, 2)\n",
    "                if transpose:\n",
    "                    image_mask_np_swapped = np.transpose(image_mask_np_swapped, (0, 2, 1))\n",
    "                masks_dic[f'{transform_names} {i} Mask'] = image_mask_np_swapped\n",
    "\n",
    "    # Return the dictionaries\n",
    "    return images_dic, masks_dic\n"
   ]
  },
  {
   "cell_type": "code",
   "execution_count": 3,
   "id": "7f9635f6-9b5b-49d4-b0fb-d1355f71ce9f",
   "metadata": {},
   "outputs": [],
   "source": [
    "import torchio as tio\n",
    "import numpy as np\n",
    "import napari\n",
    "\n",
    "def show_transformed_images(images_dic, existing_viewer=None):\n",
    "    # Check if an existing viewer is provided\n",
    "    if existing_viewer is None:\n",
    "        # Create a new napari viewer\n",
    "        viewer = napari.Viewer()\n",
    "    else:\n",
    "        viewer = existing_viewer\n",
    "\n",
    "    # Add images to the viewer using keys as names\n",
    "    for key, image in images_dic.items():\n",
    "        viewer.add_image(image, name=key)\n",
    "\n",
    "    # Return the viewer\n",
    "    return viewer"
   ]
  },
  {
   "cell_type": "code",
   "execution_count": 4,
   "id": "6e94f0d9-85d5-4b47-9397-6135f40daa3a",
   "metadata": {},
   "outputs": [],
   "source": [
    "import os\n",
    "import tifffile\n",
    "import numpy as np\n",
    "\n",
    "def save_images_from_dict(image_dict, original_image_path, suffix = None):\n",
    "    # Check if the dictionary keys contain 'image' or 'mask', if not raise an error\n",
    "    valid_keys = [key for key in image_dict.keys() if 'image' in key.lower() or 'mask' in key.lower()]\n",
    "    if len(valid_keys) != len(image_dict):\n",
    "        raise ValueError(\"Dictionary keys must contain 'image' or 'mask'\")\n",
    "\n",
    "    # Get the directory path of the file\n",
    "    file_directory = os.path.dirname(original_image_path)\n",
    "    \n",
    "    # Get the name of the last folder\n",
    "    last_folder_name = os.path.basename(file_directory)\n",
    "    \n",
    "    # The target directory is the 'Augmentation' folder in the current directory\n",
    "    target_directory = os.path.join(os.getcwd(), \"Augmentation\")\n",
    "    \n",
    "    # Create the target directory if it doesn't exist\n",
    "    if not os.path.exists(target_directory):\n",
    "        os.makedirs(target_directory)\n",
    "    \n",
    "    # Create a subdirectory with the same name as the last folder in the target directory\n",
    "    last_folder_path = os.path.join(target_directory, last_folder_name)\n",
    "    if not os.path.exists(last_folder_path):\n",
    "        os.makedirs(last_folder_path)\n",
    "\n",
    "    for key, image in image_dict.items():\n",
    "        # Determine the name of the subfolder for storing images or masks\n",
    "        subfolder_name = 'image' if 'image' in key.lower() else 'mask'\n",
    "        \n",
    "        # Create the path for the subfolder\n",
    "        subfolder_path = os.path.join(last_folder_path, subfolder_name)\n",
    "        if not os.path.exists(subfolder_path):\n",
    "            os.makedirs(subfolder_path)\n",
    "\n",
    "        # Split the key to extract the image number\n",
    "        parts = key.split()\n",
    "        image_number = parts[-2]\n",
    "        \n",
    "        # Determine if it's an image or mask\n",
    "        if 'image' in key.lower():\n",
    "            file_type = 'Image'\n",
    "        elif 'mask' in key.lower():\n",
    "            file_type = 'Mask'\n",
    "        else:\n",
    "            raise ValueError(f\"Invalid key: {key}\")\n",
    "        \n",
    "        # Construct the file path with suffix\n",
    "        if suffix:\n",
    "            file_path = os.path.join(subfolder_path, f\"{'_'.join(parts[:-2])}_{suffix} {image_number} {file_type}.tif\")\n",
    "        else:\n",
    "            file_path = os.path.join(subfolder_path, f\"{key}.tif\")\n",
    "            \n",
    "        # Save the image\n",
    "        if isinstance(image, np.ndarray):\n",
    "            tifffile.imwrite(file_path, image)\n",
    "            #print(f\"Saved {key} to {file_path}\")\n",
    "        else:\n",
    "            raise ValueError(f\"Image data associated with key '{key}' is not a numpy array\")\n",
    "            \n",
    "        #print(f\"Saved {key} to {file_path}\")"
   ]
  },
  {
   "cell_type": "code",
   "execution_count": 5,
   "id": "c70cd377-4eb3-4c51-b5da-916fcb18d31e",
   "metadata": {},
   "outputs": [],
   "source": [
    "import itertools\n",
    "\n",
    "def compose_transforms(transforms_list, Max_num_transforms = None):\n",
    "    # Get all combinations of transforms_list with length up to Max_num_transforms\n",
    "    if Max_num_transforms==None:\n",
    "        Max_num_transforms = len(transforms_list)\n",
    "    all_combinations = []\n",
    "    for i in range(1, Max_num_transforms + 1):\n",
    "        combinations = list(itertools.combinations(transforms_list, i))\n",
    "        all_combinations.extend(combinations)\n",
    "    #for i, combination in enumerate(all_combinations):\n",
    "    #    print(f\"Combination {i+1}: {combination}\")\n",
    "    print(f\"You have {len(all_combinations)} combinations.\")\n",
    "\n",
    "    return all_combinations"
   ]
  },
  {
   "cell_type": "code",
   "execution_count": 7,
   "id": "d46c319a-8796-4b20-8f55-32b47d37c689",
   "metadata": {
    "scrolled": true
   },
   "outputs": [
    {
     "name": "stdout",
     "output_type": "stream",
     "text": [
      "You have 3 combinations.\n"
     ]
    }
   ],
   "source": [
    "subjects = [\n",
    "    tio.Subject(\n",
    "        t1=tio.ScalarImage(image_file_path),\n",
    "        label=tio.LabelMap(label_file_path),\n",
    "    )\n",
    "]\n",
    "\n",
    "transforms_list = [\n",
    "    #tio.transforms.RandomBlur((2,3)),\n",
    "    #tio.transforms.RandomNoise(10, 2),\n",
    "    #tio.transforms.RandomBiasField(),\n",
    "    tio.transforms.RandomGamma(),\n",
    "    tio.RandomFlip(axes=('LR'), flip_probability = 1), \n",
    "    #tio.RandomAffine(scales= (1,1), degrees = (15)), \n",
    "    #tio.RandomElasticDeformation(num_control_points = (7,7,5), max_displacement = (7,7,4)), \n",
    "    #tio.RandomAnisotropy()\n",
    "]\n",
    "transforms_combinations = compose_transforms(transforms_list)\n",
    "\n",
    "for i, combination in enumerate(transforms_combinations):\n",
    "    images, masks = apply_transforms_and_save(subjects, combination, transpose = True)\n",
    "    save_images_from_dict(images, image_file_path, 'LR transpose')\n",
    "    save_images_from_dict(masks, label_file_path, 'LR transpose')"
   ]
  },
  {
   "cell_type": "code",
   "execution_count": 80,
   "id": "1a37761c-4530-4c52-9442-22c1ac372962",
   "metadata": {},
   "outputs": [],
   "source": [
    "viewer = show_transformed_images(images, viewer)"
   ]
  }
 ],
 "metadata": {
  "kernelspec": {
   "display_name": "intern",
   "language": "python",
   "name": "intern"
  },
  "language_info": {
   "codemirror_mode": {
    "name": "ipython",
    "version": 3
   },
   "file_extension": ".py",
   "mimetype": "text/x-python",
   "name": "python",
   "nbconvert_exporter": "python",
   "pygments_lexer": "ipython3",
   "version": "3.11.8"
  }
 },
 "nbformat": 4,
 "nbformat_minor": 5
}
